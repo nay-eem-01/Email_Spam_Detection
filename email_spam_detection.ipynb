{
 "cells": [
  {
   "cell_type": "code",
   "execution_count": 241,
   "id": "0bab038f-154c-4ad6-8dfc-dd614a1853a3",
   "metadata": {},
   "outputs": [
    {
     "name": "stdout",
     "output_type": "stream",
     "text": [
      "Requirement already satisfied: numpy in c:\\users\\ahmed\\appdata\\local\\programs\\python\\python312\\lib\\site-packages (2.2.5)\n",
      "Requirement already satisfied: pandas in c:\\users\\ahmed\\appdata\\local\\programs\\python\\python312\\lib\\site-packages (2.2.3)\n",
      "Requirement already satisfied: python-dateutil>=2.8.2 in c:\\users\\ahmed\\appdata\\local\\programs\\python\\python312\\lib\\site-packages (from pandas) (2.9.0.post0)\n",
      "Requirement already satisfied: pytz>=2020.1 in c:\\users\\ahmed\\appdata\\local\\programs\\python\\python312\\lib\\site-packages (from pandas) (2025.2)\n",
      "Requirement already satisfied: tzdata>=2022.7 in c:\\users\\ahmed\\appdata\\local\\programs\\python\\python312\\lib\\site-packages (from pandas) (2025.2)\n",
      "Requirement already satisfied: six>=1.5 in c:\\users\\ahmed\\appdata\\local\\programs\\python\\python312\\lib\\site-packages (from python-dateutil>=2.8.2->pandas) (1.17.0)\n"
     ]
    },
    {
     "name": "stderr",
     "output_type": "stream",
     "text": [
      "\n",
      "[notice] A new release of pip is available: 24.3.1 -> 25.1.1\n",
      "[notice] To update, run: python.exe -m pip install --upgrade pip\n"
     ]
    }
   ],
   "source": [
    "!pip install numpy pandas\n",
    "\n"
   ]
  },
  {
   "cell_type": "code",
   "execution_count": 242,
   "id": "67579de4-f6df-4db2-b948-5e6917aca213",
   "metadata": {},
   "outputs": [],
   "source": [
    "import numpy as np\n",
    "import pandas as pd"
   ]
  },
  {
   "cell_type": "code",
   "execution_count": 243,
   "id": "1f1573c2-75f9-4465-a96b-1dfd63e6bab9",
   "metadata": {},
   "outputs": [],
   "source": [
    "df = pd.read_csv('lingSpam.csv')"
   ]
  },
  {
   "cell_type": "code",
   "execution_count": 244,
   "id": "fcb7494f-4e7a-4b76-b74e-00d51705e41b",
   "metadata": {},
   "outputs": [
    {
     "data": {
      "text/html": [
       "<div>\n",
       "<style scoped>\n",
       "    .dataframe tbody tr th:only-of-type {\n",
       "        vertical-align: middle;\n",
       "    }\n",
       "\n",
       "    .dataframe tbody tr th {\n",
       "        vertical-align: top;\n",
       "    }\n",
       "\n",
       "    .dataframe thead th {\n",
       "        text-align: right;\n",
       "    }\n",
       "</style>\n",
       "<table border=\"1\" class=\"dataframe\">\n",
       "  <thead>\n",
       "    <tr style=\"text-align: right;\">\n",
       "      <th></th>\n",
       "      <th>Unnamed: 0</th>\n",
       "      <th>Body</th>\n",
       "      <th>Label</th>\n",
       "    </tr>\n",
       "  </thead>\n",
       "  <tbody>\n",
       "    <tr>\n",
       "      <th>2374</th>\n",
       "      <td>2374</td>\n",
       "      <td>Subject: franklin clipper ( esl / efl , etc . ...</td>\n",
       "      <td>0</td>\n",
       "    </tr>\n",
       "    <tr>\n",
       "      <th>324</th>\n",
       "      <td>324</td>\n",
       "      <td>Subject: sci - fi convention\\n \\n hi , i was a...</td>\n",
       "      <td>1</td>\n",
       "    </tr>\n",
       "    <tr>\n",
       "      <th>875</th>\n",
       "      <td>875</td>\n",
       "      <td>Subject: 4 . internationale arbeitstagung f r ...</td>\n",
       "      <td>0</td>\n",
       "    </tr>\n",
       "    <tr>\n",
       "      <th>1151</th>\n",
       "      <td>1151</td>\n",
       "      <td>Subject: stress bibliography\\n \\n content - le...</td>\n",
       "      <td>0</td>\n",
       "    </tr>\n",
       "    <tr>\n",
       "      <th>765</th>\n",
       "      <td>765</td>\n",
       "      <td>Subject: re : 5 . 1370 can the comparative met...</td>\n",
       "      <td>0</td>\n",
       "    </tr>\n",
       "    <tr>\n",
       "      <th>1119</th>\n",
       "      <td>1119</td>\n",
       "      <td>Subject: \" sycophant \" , more .\\n \\n subsequen...</td>\n",
       "      <td>0</td>\n",
       "    </tr>\n",
       "    <tr>\n",
       "      <th>1110</th>\n",
       "      <td>1110</td>\n",
       "      <td>Subject: ipa , austerlitz\\n \\n i learned phone...</td>\n",
       "      <td>0</td>\n",
       "    </tr>\n",
       "    <tr>\n",
       "      <th>1751</th>\n",
       "      <td>1751</td>\n",
       "      <td>Subject: 2nd acm international conference on d...</td>\n",
       "      <td>0</td>\n",
       "    </tr>\n",
       "    <tr>\n",
       "      <th>1650</th>\n",
       "      <td>1650</td>\n",
       "      <td>Subject: on line versions of newspapers\\n \\n d...</td>\n",
       "      <td>0</td>\n",
       "    </tr>\n",
       "    <tr>\n",
       "      <th>1534</th>\n",
       "      <td>1534</td>\n",
       "      <td>Subject: review of arboreal for windows\\n \\n r...</td>\n",
       "      <td>0</td>\n",
       "    </tr>\n",
       "  </tbody>\n",
       "</table>\n",
       "</div>"
      ],
      "text/plain": [
       "      Unnamed: 0                                               Body  Label\n",
       "2374        2374  Subject: franklin clipper ( esl / efl , etc . ...      0\n",
       "324          324  Subject: sci - fi convention\\n \\n hi , i was a...      1\n",
       "875          875  Subject: 4 . internationale arbeitstagung f r ...      0\n",
       "1151        1151  Subject: stress bibliography\\n \\n content - le...      0\n",
       "765          765  Subject: re : 5 . 1370 can the comparative met...      0\n",
       "1119        1119  Subject: \" sycophant \" , more .\\n \\n subsequen...      0\n",
       "1110        1110  Subject: ipa , austerlitz\\n \\n i learned phone...      0\n",
       "1751        1751  Subject: 2nd acm international conference on d...      0\n",
       "1650        1650  Subject: on line versions of newspapers\\n \\n d...      0\n",
       "1534        1534  Subject: review of arboreal for windows\\n \\n r...      0"
      ]
     },
     "execution_count": 244,
     "metadata": {},
     "output_type": "execute_result"
    }
   ],
   "source": [
    "df.sample(10)"
   ]
  },
  {
   "cell_type": "code",
   "execution_count": 245,
   "id": "543ff456-6d55-43de-82c7-b225737c9f57",
   "metadata": {},
   "outputs": [],
   "source": [
    "df =  pd.read_csv('completeSpamAssassin.csv')"
   ]
  },
  {
   "cell_type": "code",
   "execution_count": 246,
   "id": "badfedc4-6f52-43d0-8773-464a87998889",
   "metadata": {},
   "outputs": [
    {
     "data": {
      "text/html": [
       "<div>\n",
       "<style scoped>\n",
       "    .dataframe tbody tr th:only-of-type {\n",
       "        vertical-align: middle;\n",
       "    }\n",
       "\n",
       "    .dataframe tbody tr th {\n",
       "        vertical-align: top;\n",
       "    }\n",
       "\n",
       "    .dataframe thead th {\n",
       "        text-align: right;\n",
       "    }\n",
       "</style>\n",
       "<table border=\"1\" class=\"dataframe\">\n",
       "  <thead>\n",
       "    <tr style=\"text-align: right;\">\n",
       "      <th></th>\n",
       "      <th>Unnamed: 0</th>\n",
       "      <th>Body</th>\n",
       "      <th>Label</th>\n",
       "    </tr>\n",
       "  </thead>\n",
       "  <tbody>\n",
       "    <tr>\n",
       "      <th>357</th>\n",
       "      <td>357</td>\n",
       "      <td>Get your favorite Poker action at http://www.m...</td>\n",
       "      <td>1</td>\n",
       "    </tr>\n",
       "    <tr>\n",
       "      <th>2317</th>\n",
       "      <td>2317</td>\n",
       "      <td>Hindus got 3 billion gods..... So, losing one ...</td>\n",
       "      <td>0</td>\n",
       "    </tr>\n",
       "    <tr>\n",
       "      <th>4207</th>\n",
       "      <td>4207</td>\n",
       "      <td>URL: http://diveintomark.org/archives/2002/10/...</td>\n",
       "      <td>0</td>\n",
       "    </tr>\n",
       "    <tr>\n",
       "      <th>5497</th>\n",
       "      <td>5497</td>\n",
       "      <td>&gt; On Wed, Aug 07, 2002 at 03:08:08PM -0400, R....</td>\n",
       "      <td>0</td>\n",
       "    </tr>\n",
       "    <tr>\n",
       "      <th>2356</th>\n",
       "      <td>2356</td>\n",
       "      <td>i agree with rob. i think if the phones (and m...</td>\n",
       "      <td>0</td>\n",
       "    </tr>\n",
       "    <tr>\n",
       "      <th>6006</th>\n",
       "      <td>6006</td>\n",
       "      <td>Hi all,I cannot to get this to run...  I think...</td>\n",
       "      <td>0</td>\n",
       "    </tr>\n",
       "    <tr>\n",
       "      <th>2208</th>\n",
       "      <td>2208</td>\n",
       "      <td>On Mon, 26 Aug 2002, Jim Whitehead wrote:\\n--]...</td>\n",
       "      <td>0</td>\n",
       "    </tr>\n",
       "    <tr>\n",
       "      <th>4421</th>\n",
       "      <td>4421</td>\n",
       "      <td>Lacking in a  _____\\n\\t     / ___ \\\\n\\t    / /...</td>\n",
       "      <td>0</td>\n",
       "    </tr>\n",
       "    <tr>\n",
       "      <th>1089</th>\n",
       "      <td>1089</td>\n",
       "      <td>Lose weight while building lean muscle mass\\nÂ...</td>\n",
       "      <td>1</td>\n",
       "    </tr>\n",
       "    <tr>\n",
       "      <th>5269</th>\n",
       "      <td>5269</td>\n",
       "      <td>&gt;\\n&gt; Hit or miss, Groundhog Day 2019 is going ...</td>\n",
       "      <td>0</td>\n",
       "    </tr>\n",
       "  </tbody>\n",
       "</table>\n",
       "</div>"
      ],
      "text/plain": [
       "      Unnamed: 0                                               Body  Label\n",
       "357          357  Get your favorite Poker action at http://www.m...      1\n",
       "2317        2317  Hindus got 3 billion gods..... So, losing one ...      0\n",
       "4207        4207  URL: http://diveintomark.org/archives/2002/10/...      0\n",
       "5497        5497  > On Wed, Aug 07, 2002 at 03:08:08PM -0400, R....      0\n",
       "2356        2356  i agree with rob. i think if the phones (and m...      0\n",
       "6006        6006  Hi all,I cannot to get this to run...  I think...      0\n",
       "2208        2208  On Mon, 26 Aug 2002, Jim Whitehead wrote:\\n--]...      0\n",
       "4421        4421  Lacking in a  _____\\n\\t     / ___ \\\\n\\t    / /...      0\n",
       "1089        1089  Lose weight while building lean muscle mass\\nÂ...      1\n",
       "5269        5269  >\\n> Hit or miss, Groundhog Day 2019 is going ...      0"
      ]
     },
     "execution_count": 246,
     "metadata": {},
     "output_type": "execute_result"
    }
   ],
   "source": [
    "df.sample(10)"
   ]
  },
  {
   "cell_type": "code",
   "execution_count": 247,
   "id": "7e49ee8b-f3f8-454e-ac36-ced87ccf840a",
   "metadata": {},
   "outputs": [
    {
     "data": {
      "text/plain": [
       "(6046, 3)"
      ]
     },
     "execution_count": 247,
     "metadata": {},
     "output_type": "execute_result"
    }
   ],
   "source": [
    "df.shape"
   ]
  },
  {
   "cell_type": "code",
   "execution_count": 248,
   "id": "8d7590d4-894e-46d8-b083-d7834b09a476",
   "metadata": {},
   "outputs": [
    {
     "data": {
      "text/plain": [
       "Unnamed: 0    0\n",
       "Body          1\n",
       "Label         0\n",
       "dtype: int64"
      ]
     },
     "execution_count": 248,
     "metadata": {},
     "output_type": "execute_result"
    }
   ],
   "source": [
    "df.isnull().sum()"
   ]
  },
  {
   "cell_type": "code",
   "execution_count": 249,
   "id": "9b26254b-c4f3-4972-aace-5e55f90f874b",
   "metadata": {},
   "outputs": [
    {
     "data": {
      "text/html": [
       "<div>\n",
       "<style scoped>\n",
       "    .dataframe tbody tr th:only-of-type {\n",
       "        vertical-align: middle;\n",
       "    }\n",
       "\n",
       "    .dataframe tbody tr th {\n",
       "        vertical-align: top;\n",
       "    }\n",
       "\n",
       "    .dataframe thead th {\n",
       "        text-align: right;\n",
       "    }\n",
       "</style>\n",
       "<table border=\"1\" class=\"dataframe\">\n",
       "  <thead>\n",
       "    <tr style=\"text-align: right;\">\n",
       "      <th></th>\n",
       "      <th>Unnamed: 0</th>\n",
       "      <th>Body</th>\n",
       "      <th>Label</th>\n",
       "    </tr>\n",
       "  </thead>\n",
       "  <tbody>\n",
       "    <tr>\n",
       "      <th>0</th>\n",
       "      <td>0</td>\n",
       "      <td>\\nSave up to 70% on Life Insurance.\\nWhy Spend...</td>\n",
       "      <td>1</td>\n",
       "    </tr>\n",
       "    <tr>\n",
       "      <th>1</th>\n",
       "      <td>1</td>\n",
       "      <td>1) Fight The Risk of Cancer!\\nhttp://www.adcli...</td>\n",
       "      <td>1</td>\n",
       "    </tr>\n",
       "    <tr>\n",
       "      <th>2</th>\n",
       "      <td>2</td>\n",
       "      <td>1) Fight The Risk of Cancer!\\nhttp://www.adcli...</td>\n",
       "      <td>1</td>\n",
       "    </tr>\n",
       "    <tr>\n",
       "      <th>3</th>\n",
       "      <td>3</td>\n",
       "      <td>##############################################...</td>\n",
       "      <td>1</td>\n",
       "    </tr>\n",
       "    <tr>\n",
       "      <th>4</th>\n",
       "      <td>4</td>\n",
       "      <td>I thought you might like these:\\n1) Slim Down ...</td>\n",
       "      <td>1</td>\n",
       "    </tr>\n",
       "  </tbody>\n",
       "</table>\n",
       "</div>"
      ],
      "text/plain": [
       "   Unnamed: 0                                               Body  Label\n",
       "0           0  \\nSave up to 70% on Life Insurance.\\nWhy Spend...      1\n",
       "1           1  1) Fight The Risk of Cancer!\\nhttp://www.adcli...      1\n",
       "2           2  1) Fight The Risk of Cancer!\\nhttp://www.adcli...      1\n",
       "3           3  ##############################################...      1\n",
       "4           4  I thought you might like these:\\n1) Slim Down ...      1"
      ]
     },
     "execution_count": 249,
     "metadata": {},
     "output_type": "execute_result"
    }
   ],
   "source": [
    "df.head()"
   ]
  },
  {
   "cell_type": "code",
   "execution_count": 250,
   "id": "5afd0bc4-d358-4def-a944-43e6bd00b7b9",
   "metadata": {},
   "outputs": [
    {
     "data": {
      "text/plain": [
       "np.int64(0)"
      ]
     },
     "execution_count": 250,
     "metadata": {},
     "output_type": "execute_result"
    }
   ],
   "source": [
    "df.duplicated().sum()"
   ]
  },
  {
   "cell_type": "code",
   "execution_count": 251,
   "id": "04d7c522-3d67-4887-b67e-2b18718e9586",
   "metadata": {},
   "outputs": [
    {
     "data": {
      "text/plain": [
       "(6046, 3)"
      ]
     },
     "execution_count": 251,
     "metadata": {},
     "output_type": "execute_result"
    }
   ],
   "source": [
    "df.shape"
   ]
  },
  {
   "cell_type": "code",
   "execution_count": 252,
   "id": "5734aeb8-f0c4-4325-b828-c78ca32df9bb",
   "metadata": {},
   "outputs": [
    {
     "data": {
      "text/plain": [
       "Label\n",
       "0    4150\n",
       "1    1896\n",
       "Name: count, dtype: int64"
      ]
     },
     "execution_count": 252,
     "metadata": {},
     "output_type": "execute_result"
    }
   ],
   "source": [
    " df['Label'].value_counts()"
   ]
  },
  {
   "cell_type": "code",
   "execution_count": 253,
   "id": "7b0e6820-58f1-46a5-9869-3121b56986e8",
   "metadata": {},
   "outputs": [
    {
     "name": "stdout",
     "output_type": "stream",
     "text": [
      "Requirement already satisfied: matplotlib in c:\\users\\ahmed\\appdata\\local\\programs\\python\\python312\\lib\\site-packages (3.10.1)\n",
      "Requirement already satisfied: contourpy>=1.0.1 in c:\\users\\ahmed\\appdata\\local\\programs\\python\\python312\\lib\\site-packages (from matplotlib) (1.3.2)\n",
      "Requirement already satisfied: cycler>=0.10 in c:\\users\\ahmed\\appdata\\local\\programs\\python\\python312\\lib\\site-packages (from matplotlib) (0.12.1)\n",
      "Requirement already satisfied: fonttools>=4.22.0 in c:\\users\\ahmed\\appdata\\local\\programs\\python\\python312\\lib\\site-packages (from matplotlib) (4.57.0)\n",
      "Requirement already satisfied: kiwisolver>=1.3.1 in c:\\users\\ahmed\\appdata\\local\\programs\\python\\python312\\lib\\site-packages (from matplotlib) (1.4.8)\n",
      "Requirement already satisfied: numpy>=1.23 in c:\\users\\ahmed\\appdata\\local\\programs\\python\\python312\\lib\\site-packages (from matplotlib) (2.2.5)\n",
      "Requirement already satisfied: packaging>=20.0 in c:\\users\\ahmed\\appdata\\local\\programs\\python\\python312\\lib\\site-packages (from matplotlib) (25.0)\n",
      "Requirement already satisfied: pillow>=8 in c:\\users\\ahmed\\appdata\\local\\programs\\python\\python312\\lib\\site-packages (from matplotlib) (11.2.1)\n",
      "Requirement already satisfied: pyparsing>=2.3.1 in c:\\users\\ahmed\\appdata\\local\\programs\\python\\python312\\lib\\site-packages (from matplotlib) (3.2.3)\n",
      "Requirement already satisfied: python-dateutil>=2.7 in c:\\users\\ahmed\\appdata\\local\\programs\\python\\python312\\lib\\site-packages (from matplotlib) (2.9.0.post0)\n",
      "Requirement already satisfied: six>=1.5 in c:\\users\\ahmed\\appdata\\local\\programs\\python\\python312\\lib\\site-packages (from python-dateutil>=2.7->matplotlib) (1.17.0)\n"
     ]
    },
    {
     "name": "stderr",
     "output_type": "stream",
     "text": [
      "\n",
      "[notice] A new release of pip is available: 24.3.1 -> 25.1.1\n",
      "[notice] To update, run: python.exe -m pip install --upgrade pip\n"
     ]
    }
   ],
   "source": [
    "!pip install matplotlib\n"
   ]
  },
  {
   "cell_type": "code",
   "execution_count": 254,
   "id": "e3688dbd-21f0-425e-bcae-a41d3a3acadb",
   "metadata": {},
   "outputs": [
    {
     "data": {
      "image/png": "[encoded data removed]",
      "text/plain": [
       "<Figure size 640x480 with 1 Axes>"
      ]
     },
     "metadata": {},
     "output_type": "display_data"
    }
   ],
   "source": [
    "import matplotlib.pyplot as plt\n",
    "plt.pie(df['Label'].value_counts(), labels=['ham','spam'], autopct =\"%0.2f\")\n",
    "plt.show()"
   ]
  },
  {
   "cell_type": "code",
   "execution_count": 255,
   "id": "e3191158-9c79-4154-937e-84a5fda551bb",
   "metadata": {},
   "outputs": [
    {
     "name": "stdout",
     "output_type": "stream",
     "text": [
      "Requirement already satisfied: nltk in c:\\users\\ahmed\\appdata\\local\\programs\\python\\python312\\lib\\site-packages (3.9.1)\n",
      "Requirement already satisfied: click in c:\\users\\ahmed\\appdata\\local\\programs\\python\\python312\\lib\\site-packages (from nltk) (8.1.8)\n",
      "Requirement already satisfied: joblib in c:\\users\\ahmed\\appdata\\local\\programs\\python\\python312\\lib\\site-packages (from nltk) (1.4.2)\n",
      "Requirement already satisfied: regex>=2021.8.3 in c:\\users\\ahmed\\appdata\\local\\programs\\python\\python312\\lib\\site-packages (from nltk) (2024.11.6)\n",
      "Requirement already satisfied: tqdm in c:\\users\\ahmed\\appdata\\local\\programs\\python\\python312\\lib\\site-packages (from nltk) (4.67.1)\n",
      "Requirement already satisfied: colorama in c:\\users\\ahmed\\appdata\\local\\programs\\python\\python312\\lib\\site-packages (from click->nltk) (0.4.6)\n"
     ]
    },
    {
     "name": "stderr",
     "output_type": "stream",
     "text": [
      "\n",
      "[notice] A new release of pip is available: 24.3.1 -> 25.1.1\n",
      "[notice] To update, run: python.exe -m pip install --upgrade pip\n"
     ]
    }
   ],
   "source": [
    "!pip install nltk"
   ]
  },
  {
   "cell_type": "code",
   "execution_count": 256,
   "id": "f9ab080f-b315-4eca-a727-e119551dcee8",
   "metadata": {},
   "outputs": [],
   "source": [
    "import nltk"
   ]
  },
  {
   "cell_type": "code",
   "execution_count": 257,
   "id": "cf9e3c64-6a75-4f62-ab82-13b0b412b949",
   "metadata": {},
   "outputs": [
    {
     "name": "stderr",
     "output_type": "stream",
     "text": [
      "[nltk_data] Downloading package punkt to\n",
      "[nltk_data]     C:\\Users\\ahmed\\AppData\\Roaming\\nltk_data...\n",
      "[nltk_data]   Package punkt is already up-to-date!\n"
     ]
    },
    {
     "data": {
      "text/plain": [
       "True"
      ]
     },
     "execution_count": 257,
     "metadata": {},
     "output_type": "execute_result"
    }
   ],
   "source": [
    "nltk.download('punkt')"
   ]
  },
  {
   "cell_type": "code",
   "execution_count": 258,
   "id": "9c2b5914-7c43-4b2d-9658-71517025dfb3",
   "metadata": {},
   "outputs": [],
   "source": [
    "df['no_of_characters'] = df['Body'].apply(lambda x: len(str(x)))\n"
   ]
  },
  {
   "cell_type": "code",
   "execution_count": 259,
   "id": "ceaf075e-023f-4570-a0b3-6ed1ebd4f31b",
   "metadata": {},
   "outputs": [
    {
     "data": {
      "text/html": [
       "<div>\n",
       "<style scoped>\n",
       "    .dataframe tbody tr th:only-of-type {\n",
       "        vertical-align: middle;\n",
       "    }\n",
       "\n",
       "    .dataframe tbody tr th {\n",
       "        vertical-align: top;\n",
       "    }\n",
       "\n",
       "    .dataframe thead th {\n",
       "        text-align: right;\n",
       "    }\n",
       "</style>\n",
       "<table border=\"1\" class=\"dataframe\">\n",
       "  <thead>\n",
       "    <tr style=\"text-align: right;\">\n",
       "      <th></th>\n",
       "      <th>Unnamed: 0</th>\n",
       "      <th>Body</th>\n",
       "      <th>Label</th>\n",
       "      <th>no_of_characters</th>\n",
       "    </tr>\n",
       "  </thead>\n",
       "  <tbody>\n",
       "    <tr>\n",
       "      <th>0</th>\n",
       "      <td>0</td>\n",
       "      <td>\\nSave up to 70% on Life Insurance.\\nWhy Spend...</td>\n",
       "      <td>1</td>\n",
       "      <td>1111</td>\n",
       "    </tr>\n",
       "    <tr>\n",
       "      <th>1</th>\n",
       "      <td>1</td>\n",
       "      <td>1) Fight The Risk of Cancer!\\nhttp://www.adcli...</td>\n",
       "      <td>1</td>\n",
       "      <td>753</td>\n",
       "    </tr>\n",
       "    <tr>\n",
       "      <th>2</th>\n",
       "      <td>2</td>\n",
       "      <td>1) Fight The Risk of Cancer!\\nhttp://www.adcli...</td>\n",
       "      <td>1</td>\n",
       "      <td>610</td>\n",
       "    </tr>\n",
       "    <tr>\n",
       "      <th>3</th>\n",
       "      <td>3</td>\n",
       "      <td>##############################################...</td>\n",
       "      <td>1</td>\n",
       "      <td>2863</td>\n",
       "    </tr>\n",
       "    <tr>\n",
       "      <th>4</th>\n",
       "      <td>4</td>\n",
       "      <td>I thought you might like these:\\n1) Slim Down ...</td>\n",
       "      <td>1</td>\n",
       "      <td>641</td>\n",
       "    </tr>\n",
       "  </tbody>\n",
       "</table>\n",
       "</div>"
      ],
      "text/plain": [
       "   Unnamed: 0                                               Body  Label  \\\n",
       "0           0  \\nSave up to 70% on Life Insurance.\\nWhy Spend...      1   \n",
       "1           1  1) Fight The Risk of Cancer!\\nhttp://www.adcli...      1   \n",
       "2           2  1) Fight The Risk of Cancer!\\nhttp://www.adcli...      1   \n",
       "3           3  ##############################################...      1   \n",
       "4           4  I thought you might like these:\\n1) Slim Down ...      1   \n",
       "\n",
       "   no_of_characters  \n",
       "0              1111  \n",
       "1               753  \n",
       "2               610  \n",
       "3              2863  \n",
       "4               641  "
      ]
     },
     "execution_count": 259,
     "metadata": {},
     "output_type": "execute_result"
    }
   ],
   "source": [
    "df.head()"
   ]
  },
  {
   "cell_type": "code",
   "execution_count": 260,
   "id": "a737734e-c8c4-4745-92ea-46d04f5f632c",
   "metadata": {},
   "outputs": [
    {
     "name": "stdout",
     "output_type": "stream",
     "text": [
      "Unnamed: 0          0\n",
      "Body                1\n",
      "Label               0\n",
      "no_of_characters    0\n",
      "dtype: int64\n"
     ]
    }
   ],
   "source": [
    "print(df.isnull().sum())\n"
   ]
  },
  {
   "cell_type": "code",
   "execution_count": 261,
   "id": "dbf03d34-7236-4eb5-bf6c-5fec9184a051",
   "metadata": {},
   "outputs": [],
   "source": [
    "df = df.dropna()\n"
   ]
  },
  {
   "cell_type": "code",
   "execution_count": 262,
   "id": "6f9d8639-2370-442a-be2f-4650efff373e",
   "metadata": {},
   "outputs": [],
   "source": [
    "df = df.dropna().reset_index(drop=True)\n"
   ]
  },
  {
   "cell_type": "code",
   "execution_count": 263,
   "id": "1a7086c9-d064-4c5e-9e25-461d8749be11",
   "metadata": {},
   "outputs": [
    {
     "data": {
      "text/plain": [
       "0       [Save, up, to, 70, %, on, Life, Insurance, ., ...\n",
       "1       [1, ), Fight, The, Risk, of, Cancer, !, http, ...\n",
       "2       [1, ), Fight, The, Risk, of, Cancer, !, http, ...\n",
       "3       [#, #, #, #, #, #, #, #, #, #, #, #, #, #, #, ...\n",
       "4       [I, thought, you, might, like, these, :, 1, ),...\n",
       "                              ...                        \n",
       "6040                                              [empty]\n",
       "6041    [___, ___, ___, /\\, \\, /\\, \\, /\\, \\, ___, |, :...\n",
       "6042    [IN, THIS, ISSUE:01, ., Readers, write, 02, .,...\n",
       "6043                                              [empty]\n",
       "6044                                              [empty]\n",
       "Name: Body, Length: 6045, dtype: object"
      ]
     },
     "execution_count": 263,
     "metadata": {},
     "output_type": "execute_result"
    }
   ],
   "source": [
    "df['Body'].apply(lambda x:nltk.word_tokenize(x))"
   ]
  },
  {
   "cell_type": "code",
   "execution_count": 264,
   "id": "60ab2bb4-f312-4f9d-82cf-9388bb4f0a6b",
   "metadata": {},
   "outputs": [
    {
     "data": {
      "text/plain": [
       "0       [Save, up, to, 70, %, on, Life, Insurance, ., ...\n",
       "1       [1, ), Fight, The, Risk, of, Cancer, !, http, ...\n",
       "2       [1, ), Fight, The, Risk, of, Cancer, !, http, ...\n",
       "3       [#, #, #, #, #, #, #, #, #, #, #, #, #, #, #, ...\n",
       "4       [I, thought, you, might, like, these, :, 1, ),...\n",
       "                              ...                        \n",
       "6040                                              [empty]\n",
       "6041    [___, ___, ___, /\\, \\, /\\, \\, /\\, \\, ___, |, :...\n",
       "6042    [IN, THIS, ISSUE:01, ., Readers, write, 02, .,...\n",
       "6043                                              [empty]\n",
       "6044                                              [empty]\n",
       "Name: Body, Length: 6045, dtype: object"
      ]
     },
     "execution_count": 264,
     "metadata": {},
     "output_type": "execute_result"
    }
   ],
   "source": [
    "df['Body'].apply(lambda x: nltk.word_tokenize(x))\n"
   ]
  },
  {
   "cell_type": "code",
   "execution_count": null,
   "id": "70a39af9-cc82-44e9-83df-8e40b46e866f",
   "metadata": {},
   "outputs": [],
   "source": [
    "\n"
   ]
  },
  {
   "cell_type": "code",
   "execution_count": 265,
   "id": "b14bb32d-aa06-4993-b0be-cc0dbe133da6",
   "metadata": {},
   "outputs": [
    {
     "name": "stderr",
     "output_type": "stream",
     "text": [
      "[nltk_data] Downloading package punkt_tab to\n",
      "[nltk_data]     C:\\Users\\ahmed\\AppData\\Roaming\\nltk_data...\n",
      "[nltk_data]   Package punkt_tab is already up-to-date!\n"
     ]
    },
    {
     "data": {
      "text/plain": [
       "True"
      ]
     },
     "execution_count": 265,
     "metadata": {},
     "output_type": "execute_result"
    }
   ],
   "source": [
    "nltk.download('punkt_tab')"
   ]
  },
  {
   "cell_type": "code",
   "execution_count": 266,
   "id": "5db926f4-057e-40fd-a696-d5b79bc2fd03",
   "metadata": {},
   "outputs": [],
   "source": [
    " df['no_of_words'] = df['Body'].apply(lambda x:len(nltk.word_tokenize(x)))"
   ]
  },
  {
   "cell_type": "code",
   "execution_count": 267,
   "id": "901b29d3-23f3-4710-a93f-22af08d3fa55",
   "metadata": {},
   "outputs": [
    {
     "data": {
      "text/html": [
       "<div>\n",
       "<style scoped>\n",
       "    .dataframe tbody tr th:only-of-type {\n",
       "        vertical-align: middle;\n",
       "    }\n",
       "\n",
       "    .dataframe tbody tr th {\n",
       "        vertical-align: top;\n",
       "    }\n",
       "\n",
       "    .dataframe thead th {\n",
       "        text-align: right;\n",
       "    }\n",
       "</style>\n",
       "<table border=\"1\" class=\"dataframe\">\n",
       "  <thead>\n",
       "    <tr style=\"text-align: right;\">\n",
       "      <th></th>\n",
       "      <th>Unnamed: 0</th>\n",
       "      <th>Body</th>\n",
       "      <th>Label</th>\n",
       "      <th>no_of_characters</th>\n",
       "      <th>no_of_words</th>\n",
       "    </tr>\n",
       "  </thead>\n",
       "  <tbody>\n",
       "    <tr>\n",
       "      <th>0</th>\n",
       "      <td>0</td>\n",
       "      <td>\\nSave up to 70% on Life Insurance.\\nWhy Spend...</td>\n",
       "      <td>1</td>\n",
       "      <td>1111</td>\n",
       "      <td>191</td>\n",
       "    </tr>\n",
       "    <tr>\n",
       "      <th>1</th>\n",
       "      <td>1</td>\n",
       "      <td>1) Fight The Risk of Cancer!\\nhttp://www.adcli...</td>\n",
       "      <td>1</td>\n",
       "      <td>753</td>\n",
       "      <td>139</td>\n",
       "    </tr>\n",
       "    <tr>\n",
       "      <th>2</th>\n",
       "      <td>2</td>\n",
       "      <td>1) Fight The Risk of Cancer!\\nhttp://www.adcli...</td>\n",
       "      <td>1</td>\n",
       "      <td>610</td>\n",
       "      <td>113</td>\n",
       "    </tr>\n",
       "    <tr>\n",
       "      <th>3</th>\n",
       "      <td>3</td>\n",
       "      <td>##############################################...</td>\n",
       "      <td>1</td>\n",
       "      <td>2863</td>\n",
       "      <td>690</td>\n",
       "    </tr>\n",
       "    <tr>\n",
       "      <th>4</th>\n",
       "      <td>4</td>\n",
       "      <td>I thought you might like these:\\n1) Slim Down ...</td>\n",
       "      <td>1</td>\n",
       "      <td>641</td>\n",
       "      <td>108</td>\n",
       "    </tr>\n",
       "  </tbody>\n",
       "</table>\n",
       "</div>"
      ],
      "text/plain": [
       "   Unnamed: 0                                               Body  Label  \\\n",
       "0           0  \\nSave up to 70% on Life Insurance.\\nWhy Spend...      1   \n",
       "1           1  1) Fight The Risk of Cancer!\\nhttp://www.adcli...      1   \n",
       "2           2  1) Fight The Risk of Cancer!\\nhttp://www.adcli...      1   \n",
       "3           3  ##############################################...      1   \n",
       "4           4  I thought you might like these:\\n1) Slim Down ...      1   \n",
       "\n",
       "   no_of_characters  no_of_words  \n",
       "0              1111          191  \n",
       "1               753          139  \n",
       "2               610          113  \n",
       "3              2863          690  \n",
       "4               641          108  "
      ]
     },
     "execution_count": 267,
     "metadata": {},
     "output_type": "execute_result"
    }
   ],
   "source": [
    "df.head()"
   ]
  },
  {
   "cell_type": "code",
   "execution_count": 268,
   "id": "3ee4eac1-4975-4e43-8675-3e2e65c28027",
   "metadata": {},
   "outputs": [],
   "source": [
    "df['no_of_sentences'] = df['Body'].apply(lambda x:len(nltk.sent_tokenize(x)))"
   ]
  },
  {
   "cell_type": "code",
   "execution_count": 269,
   "id": "c1cdd0f7-d149-4971-8389-c0a57d7833ee",
   "metadata": {},
   "outputs": [
    {
     "data": {
      "text/html": [
       "<div>\n",
       "<style scoped>\n",
       "    .dataframe tbody tr th:only-of-type {\n",
       "        vertical-align: middle;\n",
       "    }\n",
       "\n",
       "    .dataframe tbody tr th {\n",
       "        vertical-align: top;\n",
       "    }\n",
       "\n",
       "    .dataframe thead th {\n",
       "        text-align: right;\n",
       "    }\n",
       "</style>\n",
       "<table border=\"1\" class=\"dataframe\">\n",
       "  <thead>\n",
       "    <tr style=\"text-align: right;\">\n",
       "      <th></th>\n",
       "      <th>Unnamed: 0</th>\n",
       "      <th>Body</th>\n",
       "      <th>Label</th>\n",
       "      <th>no_of_characters</th>\n",
       "      <th>no_of_words</th>\n",
       "      <th>no_of_sentences</th>\n",
       "    </tr>\n",
       "  </thead>\n",
       "  <tbody>\n",
       "    <tr>\n",
       "      <th>0</th>\n",
       "      <td>0</td>\n",
       "      <td>\\nSave up to 70% on Life Insurance.\\nWhy Spend...</td>\n",
       "      <td>1</td>\n",
       "      <td>1111</td>\n",
       "      <td>191</td>\n",
       "      <td>12</td>\n",
       "    </tr>\n",
       "    <tr>\n",
       "      <th>1</th>\n",
       "      <td>1</td>\n",
       "      <td>1) Fight The Risk of Cancer!\\nhttp://www.adcli...</td>\n",
       "      <td>1</td>\n",
       "      <td>753</td>\n",
       "      <td>139</td>\n",
       "      <td>5</td>\n",
       "    </tr>\n",
       "    <tr>\n",
       "      <th>2</th>\n",
       "      <td>2</td>\n",
       "      <td>1) Fight The Risk of Cancer!\\nhttp://www.adcli...</td>\n",
       "      <td>1</td>\n",
       "      <td>610</td>\n",
       "      <td>113</td>\n",
       "      <td>4</td>\n",
       "    </tr>\n",
       "    <tr>\n",
       "      <th>3</th>\n",
       "      <td>3</td>\n",
       "      <td>##############################################...</td>\n",
       "      <td>1</td>\n",
       "      <td>2863</td>\n",
       "      <td>690</td>\n",
       "      <td>35</td>\n",
       "    </tr>\n",
       "    <tr>\n",
       "      <th>4</th>\n",
       "      <td>4</td>\n",
       "      <td>I thought you might like these:\\n1) Slim Down ...</td>\n",
       "      <td>1</td>\n",
       "      <td>641</td>\n",
       "      <td>108</td>\n",
       "      <td>4</td>\n",
       "    </tr>\n",
       "  </tbody>\n",
       "</table>\n",
       "</div>"
      ],
      "text/plain": [
       "   Unnamed: 0                                               Body  Label  \\\n",
       "0           0  \\nSave up to 70% on Life Insurance.\\nWhy Spend...      1   \n",
       "1           1  1) Fight The Risk of Cancer!\\nhttp://www.adcli...      1   \n",
       "2           2  1) Fight The Risk of Cancer!\\nhttp://www.adcli...      1   \n",
       "3           3  ##############################################...      1   \n",
       "4           4  I thought you might like these:\\n1) Slim Down ...      1   \n",
       "\n",
       "   no_of_characters  no_of_words  no_of_sentences  \n",
       "0              1111          191               12  \n",
       "1               753          139                5  \n",
       "2               610          113                4  \n",
       "3              2863          690               35  \n",
       "4               641          108                4  "
      ]
     },
     "execution_count": 269,
     "metadata": {},
     "output_type": "execute_result"
    }
   ],
   "source": [
    "df.head()"
   ]
  },
  {
   "cell_type": "code",
   "execution_count": 270,
   "id": "ce1c47f0-2c88-475d-b78b-b1f243b60b9e",
   "metadata": {},
   "outputs": [
    {
     "data": {
      "text/html": [
       "<div>\n",
       "<style scoped>\n",
       "    .dataframe tbody tr th:only-of-type {\n",
       "        vertical-align: middle;\n",
       "    }\n",
       "\n",
       "    .dataframe tbody tr th {\n",
       "        vertical-align: top;\n",
       "    }\n",
       "\n",
       "    .dataframe thead th {\n",
       "        text-align: right;\n",
       "    }\n",
       "</style>\n",
       "<table border=\"1\" class=\"dataframe\">\n",
       "  <thead>\n",
       "    <tr style=\"text-align: right;\">\n",
       "      <th></th>\n",
       "      <th>no_of_characters</th>\n",
       "      <th>no_of_words</th>\n",
       "      <th>no_of_sentences</th>\n",
       "    </tr>\n",
       "  </thead>\n",
       "  <tbody>\n",
       "    <tr>\n",
       "      <th>count</th>\n",
       "      <td>6045.000000</td>\n",
       "      <td>6045.000000</td>\n",
       "      <td>6045.000000</td>\n",
       "    </tr>\n",
       "    <tr>\n",
       "      <th>mean</th>\n",
       "      <td>1758.272787</td>\n",
       "      <td>328.882878</td>\n",
       "      <td>11.714971</td>\n",
       "    </tr>\n",
       "    <tr>\n",
       "      <th>std</th>\n",
       "      <td>4940.284032</td>\n",
       "      <td>766.591788</td>\n",
       "      <td>26.649811</td>\n",
       "    </tr>\n",
       "    <tr>\n",
       "      <th>min</th>\n",
       "      <td>1.000000</td>\n",
       "      <td>0.000000</td>\n",
       "      <td>0.000000</td>\n",
       "    </tr>\n",
       "    <tr>\n",
       "      <th>25%</th>\n",
       "      <td>439.000000</td>\n",
       "      <td>82.000000</td>\n",
       "      <td>3.000000</td>\n",
       "    </tr>\n",
       "    <tr>\n",
       "      <th>50%</th>\n",
       "      <td>899.000000</td>\n",
       "      <td>173.000000</td>\n",
       "      <td>6.000000</td>\n",
       "    </tr>\n",
       "    <tr>\n",
       "      <th>75%</th>\n",
       "      <td>1624.000000</td>\n",
       "      <td>318.000000</td>\n",
       "      <td>11.000000</td>\n",
       "    </tr>\n",
       "    <tr>\n",
       "      <th>max</th>\n",
       "      <td>194978.000000</td>\n",
       "      <td>18571.000000</td>\n",
       "      <td>808.000000</td>\n",
       "    </tr>\n",
       "  </tbody>\n",
       "</table>\n",
       "</div>"
      ],
      "text/plain": [
       "       no_of_characters   no_of_words  no_of_sentences\n",
       "count       6045.000000   6045.000000      6045.000000\n",
       "mean        1758.272787    328.882878        11.714971\n",
       "std         4940.284032    766.591788        26.649811\n",
       "min            1.000000      0.000000         0.000000\n",
       "25%          439.000000     82.000000         3.000000\n",
       "50%          899.000000    173.000000         6.000000\n",
       "75%         1624.000000    318.000000        11.000000\n",
       "max       194978.000000  18571.000000       808.000000"
      ]
     },
     "execution_count": 270,
     "metadata": {},
     "output_type": "execute_result"
    }
   ],
   "source": [
    "df[['no_of_characters','no_of_words','no_of_sentences']].describe()"
   ]
  },
  {
   "cell_type": "code",
   "execution_count": 271,
   "id": "a4af52d7-657e-460d-8f31-d3fec4ef1185",
   "metadata": {},
   "outputs": [
    {
     "data": {
      "text/html": [
       "<div>\n",
       "<style scoped>\n",
       "    .dataframe tbody tr th:only-of-type {\n",
       "        vertical-align: middle;\n",
       "    }\n",
       "\n",
       "    .dataframe tbody tr th {\n",
       "        vertical-align: top;\n",
       "    }\n",
       "\n",
       "    .dataframe thead th {\n",
       "        text-align: right;\n",
       "    }\n",
       "</style>\n",
       "<table border=\"1\" class=\"dataframe\">\n",
       "  <thead>\n",
       "    <tr style=\"text-align: right;\">\n",
       "      <th></th>\n",
       "      <th>no_of_characters</th>\n",
       "      <th>no_of_words</th>\n",
       "      <th>no_of_sentences</th>\n",
       "    </tr>\n",
       "  </thead>\n",
       "  <tbody>\n",
       "    <tr>\n",
       "      <th>count</th>\n",
       "      <td>4150.000000</td>\n",
       "      <td>4150.000000</td>\n",
       "      <td>4150.000000</td>\n",
       "    </tr>\n",
       "    <tr>\n",
       "      <th>mean</th>\n",
       "      <td>1699.373253</td>\n",
       "      <td>323.129398</td>\n",
       "      <td>10.936627</td>\n",
       "    </tr>\n",
       "    <tr>\n",
       "      <th>std</th>\n",
       "      <td>4898.320247</td>\n",
       "      <td>758.316457</td>\n",
       "      <td>25.428544</td>\n",
       "    </tr>\n",
       "    <tr>\n",
       "      <th>min</th>\n",
       "      <td>5.000000</td>\n",
       "      <td>1.000000</td>\n",
       "      <td>1.000000</td>\n",
       "    </tr>\n",
       "    <tr>\n",
       "      <th>25%</th>\n",
       "      <td>450.250000</td>\n",
       "      <td>85.000000</td>\n",
       "      <td>3.000000</td>\n",
       "    </tr>\n",
       "    <tr>\n",
       "      <th>50%</th>\n",
       "      <td>896.000000</td>\n",
       "      <td>176.000000</td>\n",
       "      <td>6.000000</td>\n",
       "    </tr>\n",
       "    <tr>\n",
       "      <th>75%</th>\n",
       "      <td>1594.750000</td>\n",
       "      <td>318.000000</td>\n",
       "      <td>11.000000</td>\n",
       "    </tr>\n",
       "    <tr>\n",
       "      <th>max</th>\n",
       "      <td>194978.000000</td>\n",
       "      <td>18571.000000</td>\n",
       "      <td>808.000000</td>\n",
       "    </tr>\n",
       "  </tbody>\n",
       "</table>\n",
       "</div>"
      ],
      "text/plain": [
       "       no_of_characters   no_of_words  no_of_sentences\n",
       "count       4150.000000   4150.000000      4150.000000\n",
       "mean        1699.373253    323.129398        10.936627\n",
       "std         4898.320247    758.316457        25.428544\n",
       "min            5.000000      1.000000         1.000000\n",
       "25%          450.250000     85.000000         3.000000\n",
       "50%          896.000000    176.000000         6.000000\n",
       "75%         1594.750000    318.000000        11.000000\n",
       "max       194978.000000  18571.000000       808.000000"
      ]
     },
     "execution_count": 271,
     "metadata": {},
     "output_type": "execute_result"
    }
   ],
   "source": [
    "#Ham emails\n",
    "df[df['Label'] == 0] [['no_of_characters','no_of_words','no_of_sentences']].describe()"
   ]
  },
  {
   "cell_type": "code",
   "execution_count": 272,
   "id": "fba4fdf9-fb29-432c-bec3-42438af0712c",
   "metadata": {},
   "outputs": [
    {
     "data": {
      "text/html": [
       "<div>\n",
       "<style scoped>\n",
       "    .dataframe tbody tr th:only-of-type {\n",
       "        vertical-align: middle;\n",
       "    }\n",
       "\n",
       "    .dataframe tbody tr th {\n",
       "        vertical-align: top;\n",
       "    }\n",
       "\n",
       "    .dataframe thead th {\n",
       "        text-align: right;\n",
       "    }\n",
       "</style>\n",
       "<table border=\"1\" class=\"dataframe\">\n",
       "  <thead>\n",
       "    <tr style=\"text-align: right;\">\n",
       "      <th></th>\n",
       "      <th>no_of_characters</th>\n",
       "      <th>no_of_words</th>\n",
       "      <th>no_of_sentences</th>\n",
       "    </tr>\n",
       "  </thead>\n",
       "  <tbody>\n",
       "    <tr>\n",
       "      <th>count</th>\n",
       "      <td>1895.000000</td>\n",
       "      <td>1895.000000</td>\n",
       "      <td>1895.000000</td>\n",
       "    </tr>\n",
       "    <tr>\n",
       "      <th>mean</th>\n",
       "      <td>1887.261214</td>\n",
       "      <td>341.482850</td>\n",
       "      <td>13.419525</td>\n",
       "    </tr>\n",
       "    <tr>\n",
       "      <th>std</th>\n",
       "      <td>5029.857585</td>\n",
       "      <td>784.465001</td>\n",
       "      <td>29.080556</td>\n",
       "    </tr>\n",
       "    <tr>\n",
       "      <th>min</th>\n",
       "      <td>1.000000</td>\n",
       "      <td>0.000000</td>\n",
       "      <td>0.000000</td>\n",
       "    </tr>\n",
       "    <tr>\n",
       "      <th>25%</th>\n",
       "      <td>399.000000</td>\n",
       "      <td>70.000000</td>\n",
       "      <td>2.000000</td>\n",
       "    </tr>\n",
       "    <tr>\n",
       "      <th>50%</th>\n",
       "      <td>904.000000</td>\n",
       "      <td>162.000000</td>\n",
       "      <td>7.000000</td>\n",
       "    </tr>\n",
       "    <tr>\n",
       "      <th>75%</th>\n",
       "      <td>1700.000000</td>\n",
       "      <td>315.500000</td>\n",
       "      <td>12.000000</td>\n",
       "    </tr>\n",
       "    <tr>\n",
       "      <th>max</th>\n",
       "      <td>129635.000000</td>\n",
       "      <td>13292.000000</td>\n",
       "      <td>406.000000</td>\n",
       "    </tr>\n",
       "  </tbody>\n",
       "</table>\n",
       "</div>"
      ],
      "text/plain": [
       "       no_of_characters   no_of_words  no_of_sentences\n",
       "count       1895.000000   1895.000000      1895.000000\n",
       "mean        1887.261214    341.482850        13.419525\n",
       "std         5029.857585    784.465001        29.080556\n",
       "min            1.000000      0.000000         0.000000\n",
       "25%          399.000000     70.000000         2.000000\n",
       "50%          904.000000    162.000000         7.000000\n",
       "75%         1700.000000    315.500000        12.000000\n",
       "max       129635.000000  13292.000000       406.000000"
      ]
     },
     "execution_count": 272,
     "metadata": {},
     "output_type": "execute_result"
    }
   ],
   "source": [
    "#spam emails\n",
    "df[df['Label'] == 1] [['no_of_characters','no_of_words','no_of_sentences']].describe()"
   ]
  },
  {
   "cell_type": "code",
   "execution_count": 273,
   "id": "72b635e9-b29e-4fc5-8baa-c01520621480",
   "metadata": {},
   "outputs": [],
   "source": [
    " import seaborn as sns"
   ]
  },
  {
   "cell_type": "code",
   "execution_count": 274,
   "id": "224db09f-54fb-4668-a81e-cf90a1a80b52",
   "metadata": {},
   "outputs": [
    {
     "name": "stdout",
     "output_type": "stream",
     "text": [
      "Requirement already satisfied: seaborn in c:\\users\\ahmed\\appdata\\local\\programs\\python\\python312\\lib\\site-packages (0.13.2)\n",
      "Requirement already satisfied: numpy!=1.24.0,>=1.20 in c:\\users\\ahmed\\appdata\\local\\programs\\python\\python312\\lib\\site-packages (from seaborn) (2.2.5)\n",
      "Requirement already satisfied: pandas>=1.2 in c:\\users\\ahmed\\appdata\\local\\programs\\python\\python312\\lib\\site-packages (from seaborn) (2.2.3)\n",
      "Requirement already satisfied: matplotlib!=3.6.1,>=3.4 in c:\\users\\ahmed\\appdata\\local\\programs\\python\\python312\\lib\\site-packages (from seaborn) (3.10.1)\n",
      "Requirement already satisfied: contourpy>=1.0.1 in c:\\users\\ahmed\\appdata\\local\\programs\\python\\python312\\lib\\site-packages (from matplotlib!=3.6.1,>=3.4->seaborn) (1.3.2)\n",
      "Requirement already satisfied: cycler>=0.10 in c:\\users\\ahmed\\appdata\\local\\programs\\python\\python312\\lib\\site-packages (from matplotlib!=3.6.1,>=3.4->seaborn) (0.12.1)\n",
      "Requirement already satisfied: fonttools>=4.22.0 in c:\\users\\ahmed\\appdata\\local\\programs\\python\\python312\\lib\\site-packages (from matplotlib!=3.6.1,>=3.4->seaborn) (4.57.0)\n",
      "Requirement already satisfied: kiwisolver>=1.3.1 in c:\\users\\ahmed\\appdata\\local\\programs\\python\\python312\\lib\\site-packages (from matplotlib!=3.6.1,>=3.4->seaborn) (1.4.8)\n",
      "Requirement already satisfied: packaging>=20.0 in c:\\users\\ahmed\\appdata\\local\\programs\\python\\python312\\lib\\site-packages (from matplotlib!=3.6.1,>=3.4->seaborn) (25.0)\n",
      "Requirement already satisfied: pillow>=8 in c:\\users\\ahmed\\appdata\\local\\programs\\python\\python312\\lib\\site-packages (from matplotlib!=3.6.1,>=3.4->seaborn) (11.2.1)\n",
      "Requirement already satisfied: pyparsing>=2.3.1 in c:\\users\\ahmed\\appdata\\local\\programs\\python\\python312\\lib\\site-packages (from matplotlib!=3.6.1,>=3.4->seaborn) (3.2.3)\n",
      "Requirement already satisfied: python-dateutil>=2.7 in c:\\users\\ahmed\\appdata\\local\\programs\\python\\python312\\lib\\site-packages (from matplotlib!=3.6.1,>=3.4->seaborn) (2.9.0.post0)\n",
      "Requirement already satisfied: pytz>=2020.1 in c:\\users\\ahmed\\appdata\\local\\programs\\python\\python312\\lib\\site-packages (from pandas>=1.2->seaborn) (2025.2)\n",
      "Requirement already satisfied: tzdata>=2022.7 in c:\\users\\ahmed\\appdata\\local\\programs\\python\\python312\\lib\\site-packages (from pandas>=1.2->seaborn) (2025.2)\n",
      "Requirement already satisfied: six>=1.5 in c:\\users\\ahmed\\appdata\\local\\programs\\python\\python312\\lib\\site-packages (from python-dateutil>=2.7->matplotlib!=3.6.1,>=3.4->seaborn) (1.17.0)\n"
     ]
    },
    {
     "name": "stderr",
     "output_type": "stream",
     "text": [
      "\n",
      "[notice] A new release of pip is available: 24.3.1 -> 25.1.1\n",
      "[notice] To update, run: python.exe -m pip install --upgrade pip\n"
     ]
    }
   ],
   "source": [
    "!pip install seaborn"
   ]
  },
  {
   "cell_type": "code",
   "execution_count": 275,
   "id": "28db8d1e-2207-4562-8db5-519a3898c044",
   "metadata": {},
   "outputs": [],
   "source": [
    " import seaborn as sns"
   ]
  },
  {
   "cell_type": "code",
   "execution_count": 276,
   "id": "065871a6-5719-405b-8a47-248fd8ef1d7c",
   "metadata": {},
   "outputs": [
    {
     "data": {
      "text/html": [
       "<div>\n",
       "<style scoped>\n",
       "    .dataframe tbody tr th:only-of-type {\n",
       "        vertical-align: middle;\n",
       "    }\n",
       "\n",
       "    .dataframe tbody tr th {\n",
       "        vertical-align: top;\n",
       "    }\n",
       "\n",
       "    .dataframe thead th {\n",
       "        text-align: right;\n",
       "    }\n",
       "</style>\n",
       "<table border=\"1\" class=\"dataframe\">\n",
       "  <thead>\n",
       "    <tr style=\"text-align: right;\">\n",
       "      <th></th>\n",
       "      <th>Unnamed: 0</th>\n",
       "      <th>Body</th>\n",
       "      <th>Label</th>\n",
       "      <th>no_of_characters</th>\n",
       "      <th>no_of_words</th>\n",
       "      <th>no_of_sentences</th>\n",
       "    </tr>\n",
       "  </thead>\n",
       "  <tbody>\n",
       "    <tr>\n",
       "      <th>1895</th>\n",
       "      <td>1896</td>\n",
       "      <td>Date:        Wed, 21 Aug 2002 10:54:46 -05...</td>\n",
       "      <td>0</td>\n",
       "      <td>1530</td>\n",
       "      <td>273</td>\n",
       "      <td>2</td>\n",
       "    </tr>\n",
       "    <tr>\n",
       "      <th>1896</th>\n",
       "      <td>1897</td>\n",
       "      <td>Martin A posted:\\nTassos Papadopoulos, the Gre...</td>\n",
       "      <td>0</td>\n",
       "      <td>887</td>\n",
       "      <td>205</td>\n",
       "      <td>5</td>\n",
       "    </tr>\n",
       "    <tr>\n",
       "      <th>1897</th>\n",
       "      <td>1898</td>\n",
       "      <td>Man Threatens Explosion In Moscow Thursday Aug...</td>\n",
       "      <td>0</td>\n",
       "      <td>1737</td>\n",
       "      <td>351</td>\n",
       "      <td>12</td>\n",
       "    </tr>\n",
       "    <tr>\n",
       "      <th>1898</th>\n",
       "      <td>1899</td>\n",
       "      <td>Klez: The Virus That Won't Die\\n \\nAlready the...</td>\n",
       "      <td>0</td>\n",
       "      <td>1113</td>\n",
       "      <td>185</td>\n",
       "      <td>3</td>\n",
       "    </tr>\n",
       "    <tr>\n",
       "      <th>1899</th>\n",
       "      <td>1900</td>\n",
       "      <td>&gt;  in adding cream to spaghetti carbonara, whi...</td>\n",
       "      <td>0</td>\n",
       "      <td>1036</td>\n",
       "      <td>226</td>\n",
       "      <td>6</td>\n",
       "    </tr>\n",
       "    <tr>\n",
       "      <th>...</th>\n",
       "      <td>...</td>\n",
       "      <td>...</td>\n",
       "      <td>...</td>\n",
       "      <td>...</td>\n",
       "      <td>...</td>\n",
       "      <td>...</td>\n",
       "    </tr>\n",
       "    <tr>\n",
       "      <th>6040</th>\n",
       "      <td>6041</td>\n",
       "      <td>empty</td>\n",
       "      <td>0</td>\n",
       "      <td>5</td>\n",
       "      <td>1</td>\n",
       "      <td>1</td>\n",
       "    </tr>\n",
       "    <tr>\n",
       "      <th>6041</th>\n",
       "      <td>6042</td>\n",
       "      <td>___           ___           ...</td>\n",
       "      <td>0</td>\n",
       "      <td>16999</td>\n",
       "      <td>3100</td>\n",
       "      <td>91</td>\n",
       "    </tr>\n",
       "    <tr>\n",
       "      <th>6042</th>\n",
       "      <td>6043</td>\n",
       "      <td>IN THIS ISSUE:01. Readers write\\n02. Extension...</td>\n",
       "      <td>0</td>\n",
       "      <td>7299</td>\n",
       "      <td>1478</td>\n",
       "      <td>83</td>\n",
       "    </tr>\n",
       "    <tr>\n",
       "      <th>6043</th>\n",
       "      <td>6044</td>\n",
       "      <td>empty</td>\n",
       "      <td>0</td>\n",
       "      <td>5</td>\n",
       "      <td>1</td>\n",
       "      <td>1</td>\n",
       "    </tr>\n",
       "    <tr>\n",
       "      <th>6044</th>\n",
       "      <td>6045</td>\n",
       "      <td>empty</td>\n",
       "      <td>0</td>\n",
       "      <td>5</td>\n",
       "      <td>1</td>\n",
       "      <td>1</td>\n",
       "    </tr>\n",
       "  </tbody>\n",
       "</table>\n",
       "<p>4150 rows × 6 columns</p>\n",
       "</div>"
      ],
      "text/plain": [
       "      Unnamed: 0                                               Body  Label  \\\n",
       "1895        1896      Date:        Wed, 21 Aug 2002 10:54:46 -05...      0   \n",
       "1896        1897  Martin A posted:\\nTassos Papadopoulos, the Gre...      0   \n",
       "1897        1898  Man Threatens Explosion In Moscow Thursday Aug...      0   \n",
       "1898        1899  Klez: The Virus That Won't Die\\n \\nAlready the...      0   \n",
       "1899        1900  >  in adding cream to spaghetti carbonara, whi...      0   \n",
       "...          ...                                                ...    ...   \n",
       "6040        6041                                              empty      0   \n",
       "6041        6042                    ___           ___           ...      0   \n",
       "6042        6043  IN THIS ISSUE:01. Readers write\\n02. Extension...      0   \n",
       "6043        6044                                              empty      0   \n",
       "6044        6045                                              empty      0   \n",
       "\n",
       "      no_of_characters  no_of_words  no_of_sentences  \n",
       "1895              1530          273                2  \n",
       "1896               887          205                5  \n",
       "1897              1737          351               12  \n",
       "1898              1113          185                3  \n",
       "1899              1036          226                6  \n",
       "...                ...          ...              ...  \n",
       "6040                 5            1                1  \n",
       "6041             16999         3100               91  \n",
       "6042              7299         1478               83  \n",
       "6043                 5            1                1  \n",
       "6044                 5            1                1  \n",
       "\n",
       "[4150 rows x 6 columns]"
      ]
     },
     "execution_count": 276,
     "metadata": {},
     "output_type": "execute_result"
    }
   ],
   "source": [
    "df[df['Label'] == 0]"
   ]
  },
  {
   "cell_type": "code",
   "execution_count": 277,
   "id": "44b16d68-7595-4d2d-adae-d307f425f24b",
   "metadata": {},
   "outputs": [
    {
     "data": {
      "text/html": [
       "<div>\n",
       "<style scoped>\n",
       "    .dataframe tbody tr th:only-of-type {\n",
       "        vertical-align: middle;\n",
       "    }\n",
       "\n",
       "    .dataframe tbody tr th {\n",
       "        vertical-align: top;\n",
       "    }\n",
       "\n",
       "    .dataframe thead th {\n",
       "        text-align: right;\n",
       "    }\n",
       "</style>\n",
       "<table border=\"1\" class=\"dataframe\">\n",
       "  <thead>\n",
       "    <tr style=\"text-align: right;\">\n",
       "      <th></th>\n",
       "      <th>Unnamed: 0</th>\n",
       "      <th>Body</th>\n",
       "      <th>Label</th>\n",
       "      <th>no_of_characters</th>\n",
       "      <th>no_of_words</th>\n",
       "      <th>no_of_sentences</th>\n",
       "    </tr>\n",
       "  </thead>\n",
       "  <tbody>\n",
       "    <tr>\n",
       "      <th>6025</th>\n",
       "      <td>6026</td>\n",
       "      <td>Here is your administrator password for your Q...</td>\n",
       "      <td>0</td>\n",
       "      <td>748</td>\n",
       "      <td>140</td>\n",
       "      <td>5</td>\n",
       "    </tr>\n",
       "    <tr>\n",
       "      <th>2915</th>\n",
       "      <td>2916</td>\n",
       "      <td>\\nHi Folks,I've been trying to set a button ca...</td>\n",
       "      <td>0</td>\n",
       "      <td>1046</td>\n",
       "      <td>142</td>\n",
       "      <td>3</td>\n",
       "    </tr>\n",
       "    <tr>\n",
       "      <th>4864</th>\n",
       "      <td>4865</td>\n",
       "      <td>On Tue, Aug 20, 2002 at 12:06:18PM +0100, Phil...</td>\n",
       "      <td>0</td>\n",
       "      <td>923</td>\n",
       "      <td>194</td>\n",
       "      <td>9</td>\n",
       "    </tr>\n",
       "    <tr>\n",
       "      <th>2010</th>\n",
       "      <td>2011</td>\n",
       "      <td>So, I've been letting the little .exe of SETI@...</td>\n",
       "      <td>0</td>\n",
       "      <td>744</td>\n",
       "      <td>175</td>\n",
       "      <td>9</td>\n",
       "    </tr>\n",
       "    <tr>\n",
       "      <th>4178</th>\n",
       "      <td>4179</td>\n",
       "      <td>URL: http://www.newsisfree.com/click/-6,857277...</td>\n",
       "      <td>0</td>\n",
       "      <td>151</td>\n",
       "      <td>19</td>\n",
       "      <td>1</td>\n",
       "    </tr>\n",
       "    <tr>\n",
       "      <th>1298</th>\n",
       "      <td>1299</td>\n",
       "      <td>Untitled DocumentTo unsubscribe or change subs...</td>\n",
       "      <td>1</td>\n",
       "      <td>461</td>\n",
       "      <td>68</td>\n",
       "      <td>2</td>\n",
       "    </tr>\n",
       "    <tr>\n",
       "      <th>3549</th>\n",
       "      <td>3550</td>\n",
       "      <td>On Fri, 6 Sep 2002, Guido van Rossum wrote:&gt;Qu...</td>\n",
       "      <td>0</td>\n",
       "      <td>2596</td>\n",
       "      <td>543</td>\n",
       "      <td>13</td>\n",
       "    </tr>\n",
       "    <tr>\n",
       "      <th>2548</th>\n",
       "      <td>2549</td>\n",
       "      <td>Bill Stoddard wrote:&gt;&gt;Chuck Murcko wrote:\\n&gt;&gt;\\...</td>\n",
       "      <td>0</td>\n",
       "      <td>2462</td>\n",
       "      <td>561</td>\n",
       "      <td>23</td>\n",
       "    </tr>\n",
       "    <tr>\n",
       "      <th>4945</th>\n",
       "      <td>4946</td>\n",
       "      <td>Thu, 25 Jul 2002 18:33:15 -0700 skrev du:&gt;  No...</td>\n",
       "      <td>0</td>\n",
       "      <td>1048</td>\n",
       "      <td>188</td>\n",
       "      <td>4</td>\n",
       "    </tr>\n",
       "    <tr>\n",
       "      <th>1140</th>\n",
       "      <td>1141</td>\n",
       "      <td>As seen on NBC, CBS, CNN, and even Oprah! The ...</td>\n",
       "      <td>1</td>\n",
       "      <td>1026</td>\n",
       "      <td>268</td>\n",
       "      <td>17</td>\n",
       "    </tr>\n",
       "    <tr>\n",
       "      <th>2782</th>\n",
       "      <td>2783</td>\n",
       "      <td>\"Groove really has people running scared\"....o...</td>\n",
       "      <td>0</td>\n",
       "      <td>1913</td>\n",
       "      <td>358</td>\n",
       "      <td>16</td>\n",
       "    </tr>\n",
       "    <tr>\n",
       "      <th>5931</th>\n",
       "      <td>5932</td>\n",
       "      <td>&lt;!--\\n body      { BACKGROUND-IMAGE: url(http:...</td>\n",
       "      <td>0</td>\n",
       "      <td>9496</td>\n",
       "      <td>1726</td>\n",
       "      <td>49</td>\n",
       "    </tr>\n",
       "    <tr>\n",
       "      <th>3596</th>\n",
       "      <td>3597</td>\n",
       "      <td>So then, Guido van Rossum  is all like:&gt; Maybe...</td>\n",
       "      <td>0</td>\n",
       "      <td>728</td>\n",
       "      <td>166</td>\n",
       "      <td>6</td>\n",
       "    </tr>\n",
       "    <tr>\n",
       "      <th>2092</th>\n",
       "      <td>2093</td>\n",
       "      <td>Hey,\\nI has just been given an old Toshiba CS1...</td>\n",
       "      <td>0</td>\n",
       "      <td>713</td>\n",
       "      <td>144</td>\n",
       "      <td>5</td>\n",
       "    </tr>\n",
       "    <tr>\n",
       "      <th>1642</th>\n",
       "      <td>1643</td>\n",
       "      <td>Fantastic Facials!\\nClick here to be removed</td>\n",
       "      <td>1</td>\n",
       "      <td>43</td>\n",
       "      <td>8</td>\n",
       "      <td>2</td>\n",
       "    </tr>\n",
       "    <tr>\n",
       "      <th>345</th>\n",
       "      <td>346</td>\n",
       "      <td>Opportunity is knocking. Why?Because mortgage ...</td>\n",
       "      <td>1</td>\n",
       "      <td>1649</td>\n",
       "      <td>285</td>\n",
       "      <td>18</td>\n",
       "    </tr>\n",
       "    <tr>\n",
       "      <th>2303</th>\n",
       "      <td>2304</td>\n",
       "      <td>&gt; Another thing to note about Australia is tha...</td>\n",
       "      <td>0</td>\n",
       "      <td>561</td>\n",
       "      <td>121</td>\n",
       "      <td>1</td>\n",
       "    </tr>\n",
       "    <tr>\n",
       "      <th>1334</th>\n",
       "      <td>1335</td>\n",
       "      <td>20th July, 2002To:    The PresidentFrom:  AB S...</td>\n",
       "      <td>1</td>\n",
       "      <td>3252</td>\n",
       "      <td>603</td>\n",
       "      <td>16</td>\n",
       "    </tr>\n",
       "    <tr>\n",
       "      <th>2358</th>\n",
       "      <td>2359</td>\n",
       "      <td>Eugen Leitl:\\n&gt;Clearly our non-silly non-antiq...</td>\n",
       "      <td>0</td>\n",
       "      <td>1155</td>\n",
       "      <td>198</td>\n",
       "      <td>8</td>\n",
       "    </tr>\n",
       "    <tr>\n",
       "      <th>3607</th>\n",
       "      <td>3608</td>\n",
       "      <td>&gt; &gt; But it also identified as spam everything ...</td>\n",
       "      <td>0</td>\n",
       "      <td>7647</td>\n",
       "      <td>1913</td>\n",
       "      <td>43</td>\n",
       "    </tr>\n",
       "    <tr>\n",
       "      <th>2297</th>\n",
       "      <td>2298</td>\n",
       "      <td>&gt; made. Other than that, I bet you could do no...</td>\n",
       "      <td>0</td>\n",
       "      <td>784</td>\n",
       "      <td>155</td>\n",
       "      <td>8</td>\n",
       "    </tr>\n",
       "    <tr>\n",
       "      <th>268</th>\n",
       "      <td>268</td>\n",
       "      <td>empty</td>\n",
       "      <td>1</td>\n",
       "      <td>5</td>\n",
       "      <td>1</td>\n",
       "      <td>1</td>\n",
       "    </tr>\n",
       "    <tr>\n",
       "      <th>4684</th>\n",
       "      <td>4685</td>\n",
       "      <td>&gt;Tracking it down showed that my\\n&gt;predecessor...</td>\n",
       "      <td>0</td>\n",
       "      <td>839</td>\n",
       "      <td>175</td>\n",
       "      <td>5</td>\n",
       "    </tr>\n",
       "    <tr>\n",
       "      <th>87</th>\n",
       "      <td>87</td>\n",
       "      <td>HTML&gt;\\nÂ Â Â Â Â Â Â Â Â Â Â Â      \\nÄ°NTERNE...</td>\n",
       "      <td>1</td>\n",
       "      <td>1156</td>\n",
       "      <td>181</td>\n",
       "      <td>7</td>\n",
       "    </tr>\n",
       "    <tr>\n",
       "      <th>5838</th>\n",
       "      <td>5839</td>\n",
       "      <td>\\nShopper Newsletter: AlertsLive tech help NOW...</td>\n",
       "      <td>0</td>\n",
       "      <td>1440</td>\n",
       "      <td>214</td>\n",
       "      <td>7</td>\n",
       "    </tr>\n",
       "    <tr>\n",
       "      <th>5990</th>\n",
       "      <td>5991</td>\n",
       "      <td>empty</td>\n",
       "      <td>0</td>\n",
       "      <td>5</td>\n",
       "      <td>1</td>\n",
       "      <td>1</td>\n",
       "    </tr>\n",
       "    <tr>\n",
       "      <th>5372</th>\n",
       "      <td>5373</td>\n",
       "      <td>Has anyone had much positive experience with P...</td>\n",
       "      <td>0</td>\n",
       "      <td>775</td>\n",
       "      <td>135</td>\n",
       "      <td>3</td>\n",
       "    </tr>\n",
       "    <tr>\n",
       "      <th>5876</th>\n",
       "      <td>5877</td>\n",
       "      <td>Tech Update TodayVITAL SIGNS FOR JULY 15, 2002...</td>\n",
       "      <td>0</td>\n",
       "      <td>5076</td>\n",
       "      <td>875</td>\n",
       "      <td>33</td>\n",
       "    </tr>\n",
       "    <tr>\n",
       "      <th>4411</th>\n",
       "      <td>4412</td>\n",
       "      <td>Dublin said:\\n&gt; If you copy the files from you...</td>\n",
       "      <td>0</td>\n",
       "      <td>2325</td>\n",
       "      <td>542</td>\n",
       "      <td>20</td>\n",
       "    </tr>\n",
       "    <tr>\n",
       "      <th>4238</th>\n",
       "      <td>4239</td>\n",
       "      <td>URL: http://www.newsisfree.com/click/-1,862211...</td>\n",
       "      <td>0</td>\n",
       "      <td>155</td>\n",
       "      <td>20</td>\n",
       "      <td>1</td>\n",
       "    </tr>\n",
       "    <tr>\n",
       "      <th>5239</th>\n",
       "      <td>5240</td>\n",
       "      <td>&gt; Turn it off! It not only risks silent false\\...</td>\n",
       "      <td>0</td>\n",
       "      <td>478</td>\n",
       "      <td>95</td>\n",
       "      <td>4</td>\n",
       "    </tr>\n",
       "    <tr>\n",
       "      <th>3794</th>\n",
       "      <td>3795</td>\n",
       "      <td>URL: http://scriptingnews.userland.com/backiss...</td>\n",
       "      <td>0</td>\n",
       "      <td>683</td>\n",
       "      <td>117</td>\n",
       "      <td>3</td>\n",
       "    </tr>\n",
       "    <tr>\n",
       "      <th>5102</th>\n",
       "      <td>5103</td>\n",
       "      <td>&gt;&gt;From Egg to Drummies: 10 Weeks From Farm to ...</td>\n",
       "      <td>0</td>\n",
       "      <td>1268</td>\n",
       "      <td>231</td>\n",
       "      <td>7</td>\n",
       "    </tr>\n",
       "    <tr>\n",
       "      <th>3432</th>\n",
       "      <td>3433</td>\n",
       "      <td>http://www.hughes-family.org/bugzilla/show_bug...</td>\n",
       "      <td>0</td>\n",
       "      <td>1317</td>\n",
       "      <td>225</td>\n",
       "      <td>7</td>\n",
       "    </tr>\n",
       "    <tr>\n",
       "      <th>2014</th>\n",
       "      <td>2015</td>\n",
       "      <td>&gt; That always amazes me about 'regular' dreams...</td>\n",
       "      <td>0</td>\n",
       "      <td>820</td>\n",
       "      <td>196</td>\n",
       "      <td>7</td>\n",
       "    </tr>\n",
       "    <tr>\n",
       "      <th>4797</th>\n",
       "      <td>4798</td>\n",
       "      <td>On Tue, Aug 13, 2002 at 12:22:14PM +0100, Nial...</td>\n",
       "      <td>0</td>\n",
       "      <td>678</td>\n",
       "      <td>129</td>\n",
       "      <td>8</td>\n",
       "    </tr>\n",
       "    <tr>\n",
       "      <th>5417</th>\n",
       "      <td>5418</td>\n",
       "      <td>Rohit forwards from the NYT:\\n&gt; Bigger Bar Cod...</td>\n",
       "      <td>0</td>\n",
       "      <td>1788</td>\n",
       "      <td>345</td>\n",
       "      <td>16</td>\n",
       "    </tr>\n",
       "    <tr>\n",
       "      <th>3125</th>\n",
       "      <td>3126</td>\n",
       "      <td>&gt;&gt; &gt; Well, I don't really find it consistent ...</td>\n",
       "      <td>0</td>\n",
       "      <td>1779</td>\n",
       "      <td>369</td>\n",
       "      <td>12</td>\n",
       "    </tr>\n",
       "    <tr>\n",
       "      <th>4075</th>\n",
       "      <td>4076</td>\n",
       "      <td>URL: http://www.newsisfree.com/click/-2,844395...</td>\n",
       "      <td>0</td>\n",
       "      <td>167</td>\n",
       "      <td>24</td>\n",
       "      <td>1</td>\n",
       "    </tr>\n",
       "    <tr>\n",
       "      <th>2610</th>\n",
       "      <td>2611</td>\n",
       "      <td>http://www.nytimes.com/2002/09/23/opinion/23HE...</td>\n",
       "      <td>0</td>\n",
       "      <td>4834</td>\n",
       "      <td>937</td>\n",
       "      <td>39</td>\n",
       "    </tr>\n",
       "    <tr>\n",
       "      <th>4291</th>\n",
       "      <td>4292</td>\n",
       "      <td>URL: http://www.newsisfree.com/click/-2,866494...</td>\n",
       "      <td>0</td>\n",
       "      <td>205</td>\n",
       "      <td>30</td>\n",
       "      <td>1</td>\n",
       "    </tr>\n",
       "    <tr>\n",
       "      <th>2549</th>\n",
       "      <td>2550</td>\n",
       "      <td>On Thu, 19 Sep 2002, Bill Stoddard wrote:\\n--]...</td>\n",
       "      <td>0</td>\n",
       "      <td>1542</td>\n",
       "      <td>311</td>\n",
       "      <td>12</td>\n",
       "    </tr>\n",
       "    <tr>\n",
       "      <th>333</th>\n",
       "      <td>334</td>\n",
       "      <td>empty</td>\n",
       "      <td>1</td>\n",
       "      <td>5</td>\n",
       "      <td>1</td>\n",
       "      <td>1</td>\n",
       "    </tr>\n",
       "    <tr>\n",
       "      <th>967</th>\n",
       "      <td>968</td>\n",
       "      <td>ReliaQuote - Save Up To 70% On Life Insurance1...</td>\n",
       "      <td>1</td>\n",
       "      <td>731</td>\n",
       "      <td>122</td>\n",
       "      <td>5</td>\n",
       "    </tr>\n",
       "    <tr>\n",
       "      <th>1389</th>\n",
       "      <td>1390</td>\n",
       "      <td>BARRISTER ADEWALE COKER CHAMBERS\\nLegal Practi...</td>\n",
       "      <td>1</td>\n",
       "      <td>2054</td>\n",
       "      <td>356</td>\n",
       "      <td>6</td>\n",
       "    </tr>\n",
       "    <tr>\n",
       "      <th>323</th>\n",
       "      <td>323</td>\n",
       "      <td>ï¿½ï¿½ï¿½ï¿½ï¿½ï¿½ï¿½ï¿½ï¿½ï¿½ï¿½ï¿½ï¿½ï¿½ï¿½ï...</td>\n",
       "      <td>1</td>\n",
       "      <td>740</td>\n",
       "      <td>50</td>\n",
       "      <td>1</td>\n",
       "    </tr>\n",
       "    <tr>\n",
       "      <th>5905</th>\n",
       "      <td>5906</td>\n",
       "      <td>empty</td>\n",
       "      <td>0</td>\n",
       "      <td>5</td>\n",
       "      <td>1</td>\n",
       "      <td>1</td>\n",
       "    </tr>\n",
       "    <tr>\n",
       "      <th>493</th>\n",
       "      <td>494</td>\n",
       "      <td>\\nFROM:MR. DESMOND STEVENS                    ...</td>\n",
       "      <td>1</td>\n",
       "      <td>3382</td>\n",
       "      <td>639</td>\n",
       "      <td>26</td>\n",
       "    </tr>\n",
       "    <tr>\n",
       "      <th>4562</th>\n",
       "      <td>4563</td>\n",
       "      <td>Are there any mailing lists (non-newsgroups) f...</td>\n",
       "      <td>0</td>\n",
       "      <td>481</td>\n",
       "      <td>143</td>\n",
       "      <td>3</td>\n",
       "    </tr>\n",
       "    <tr>\n",
       "      <th>338</th>\n",
       "      <td>339</td>\n",
       "      <td>empty</td>\n",
       "      <td>1</td>\n",
       "      <td>5</td>\n",
       "      <td>1</td>\n",
       "      <td>1</td>\n",
       "    </tr>\n",
       "  </tbody>\n",
       "</table>\n",
       "</div>"
      ],
      "text/plain": [
       "      Unnamed: 0                                               Body  Label  \\\n",
       "6025        6026  Here is your administrator password for your Q...      0   \n",
       "2915        2916  \\nHi Folks,I've been trying to set a button ca...      0   \n",
       "4864        4865  On Tue, Aug 20, 2002 at 12:06:18PM +0100, Phil...      0   \n",
       "2010        2011  So, I've been letting the little .exe of SETI@...      0   \n",
       "4178        4179  URL: http://www.newsisfree.com/click/-6,857277...      0   \n",
       "1298        1299  Untitled DocumentTo unsubscribe or change subs...      1   \n",
       "3549        3550  On Fri, 6 Sep 2002, Guido van Rossum wrote:>Qu...      0   \n",
       "2548        2549  Bill Stoddard wrote:>>Chuck Murcko wrote:\\n>>\\...      0   \n",
       "4945        4946  Thu, 25 Jul 2002 18:33:15 -0700 skrev du:>  No...      0   \n",
       "1140        1141  As seen on NBC, CBS, CNN, and even Oprah! The ...      1   \n",
       "2782        2783  \"Groove really has people running scared\"....o...      0   \n",
       "5931        5932  <!--\\n body      { BACKGROUND-IMAGE: url(http:...      0   \n",
       "3596        3597  So then, Guido van Rossum  is all like:> Maybe...      0   \n",
       "2092        2093  Hey,\\nI has just been given an old Toshiba CS1...      0   \n",
       "1642        1643       Fantastic Facials!\\nClick here to be removed      1   \n",
       "345          346  Opportunity is knocking. Why?Because mortgage ...      1   \n",
       "2303        2304  > Another thing to note about Australia is tha...      0   \n",
       "1334        1335  20th July, 2002To:    The PresidentFrom:  AB S...      1   \n",
       "2358        2359  Eugen Leitl:\\n>Clearly our non-silly non-antiq...      0   \n",
       "3607        3608  > > But it also identified as spam everything ...      0   \n",
       "2297        2298  > made. Other than that, I bet you could do no...      0   \n",
       "268          268                                              empty      1   \n",
       "4684        4685  >Tracking it down showed that my\\n>predecessor...      0   \n",
       "87            87  HTML>\\nÂ Â Â Â Â Â Â Â Â Â Â Â      \\nÄ°NTERNE...      1   \n",
       "5838        5839  \\nShopper Newsletter: AlertsLive tech help NOW...      0   \n",
       "5990        5991                                              empty      0   \n",
       "5372        5373  Has anyone had much positive experience with P...      0   \n",
       "5876        5877  Tech Update TodayVITAL SIGNS FOR JULY 15, 2002...      0   \n",
       "4411        4412  Dublin said:\\n> If you copy the files from you...      0   \n",
       "4238        4239  URL: http://www.newsisfree.com/click/-1,862211...      0   \n",
       "5239        5240  > Turn it off! It not only risks silent false\\...      0   \n",
       "3794        3795  URL: http://scriptingnews.userland.com/backiss...      0   \n",
       "5102        5103  >>From Egg to Drummies: 10 Weeks From Farm to ...      0   \n",
       "3432        3433  http://www.hughes-family.org/bugzilla/show_bug...      0   \n",
       "2014        2015  > That always amazes me about 'regular' dreams...      0   \n",
       "4797        4798  On Tue, Aug 13, 2002 at 12:22:14PM +0100, Nial...      0   \n",
       "5417        5418  Rohit forwards from the NYT:\\n> Bigger Bar Cod...      0   \n",
       "3125        3126   >> > Well, I don't really find it consistent ...      0   \n",
       "4075        4076  URL: http://www.newsisfree.com/click/-2,844395...      0   \n",
       "2610        2611  http://www.nytimes.com/2002/09/23/opinion/23HE...      0   \n",
       "4291        4292  URL: http://www.newsisfree.com/click/-2,866494...      0   \n",
       "2549        2550  On Thu, 19 Sep 2002, Bill Stoddard wrote:\\n--]...      0   \n",
       "333          334                                              empty      1   \n",
       "967          968  ReliaQuote - Save Up To 70% On Life Insurance1...      1   \n",
       "1389        1390  BARRISTER ADEWALE COKER CHAMBERS\\nLegal Practi...      1   \n",
       "323          323  ï¿½ï¿½ï¿½ï¿½ï¿½ï¿½ï¿½ï¿½ï¿½ï¿½ï¿½ï¿½ï¿½ï¿½ï¿½ï...      1   \n",
       "5905        5906                                              empty      0   \n",
       "493          494  \\nFROM:MR. DESMOND STEVENS                    ...      1   \n",
       "4562        4563  Are there any mailing lists (non-newsgroups) f...      0   \n",
       "338          339                                              empty      1   \n",
       "\n",
       "      no_of_characters  no_of_words  no_of_sentences  \n",
       "6025               748          140                5  \n",
       "2915              1046          142                3  \n",
       "4864               923          194                9  \n",
       "2010               744          175                9  \n",
       "4178               151           19                1  \n",
       "1298               461           68                2  \n",
       "3549              2596          543               13  \n",
       "2548              2462          561               23  \n",
       "4945              1048          188                4  \n",
       "1140              1026          268               17  \n",
       "2782              1913          358               16  \n",
       "5931              9496         1726               49  \n",
       "3596               728          166                6  \n",
       "2092               713          144                5  \n",
       "1642                43            8                2  \n",
       "345               1649          285               18  \n",
       "2303               561          121                1  \n",
       "1334              3252          603               16  \n",
       "2358              1155          198                8  \n",
       "3607              7647         1913               43  \n",
       "2297               784          155                8  \n",
       "268                  5            1                1  \n",
       "4684               839          175                5  \n",
       "87                1156          181                7  \n",
       "5838              1440          214                7  \n",
       "5990                 5            1                1  \n",
       "5372               775          135                3  \n",
       "5876              5076          875               33  \n",
       "4411              2325          542               20  \n",
       "4238               155           20                1  \n",
       "5239               478           95                4  \n",
       "3794               683          117                3  \n",
       "5102              1268          231                7  \n",
       "3432              1317          225                7  \n",
       "2014               820          196                7  \n",
       "4797               678          129                8  \n",
       "5417              1788          345               16  \n",
       "3125              1779          369               12  \n",
       "4075               167           24                1  \n",
       "2610              4834          937               39  \n",
       "4291               205           30                1  \n",
       "2549              1542          311               12  \n",
       "333                  5            1                1  \n",
       "967                731          122                5  \n",
       "1389              2054          356                6  \n",
       "323                740           50                1  \n",
       "5905                 5            1                1  \n",
       "493               3382          639               26  \n",
       "4562               481          143                3  \n",
       "338                  5            1                1  "
      ]
     },
     "execution_count": 277,
     "metadata": {},
     "output_type": "execute_result"
    }
   ],
   "source": [
    "df.sample(50)"
   ]
  },
  {
   "cell_type": "code",
   "execution_count": 278,
   "id": "1e90490d-3de2-44aa-bdd1-da413cfc1eab",
   "metadata": {},
   "outputs": [
    {
     "data": {
      "text/plain": [
       "<Axes: xlabel='no_of_characters', ylabel='Count'>"
      ]
     },
     "execution_count": 278,
     "metadata": {},
     "output_type": "execute_result"
    },
    {
     "data": {
      "image/png": "[encoded data removed]",
      "text/plain": [
       "<Figure size 1200x400 with 1 Axes>"
      ]
     },
     "metadata": {},
     "output_type": "display_data"
    }
   ],
   "source": [
    "plt.figure(figsize=(12,4))\n",
    "sns.histplot(df[df['Label'] == 0]['no_of_characters'])\n",
    "sns.histplot(df[df['Label'] == 1]['no_of_characters'],color='red')"
   ]
  },
  {
   "cell_type": "code",
   "execution_count": 279,
   "id": "60fe6306-9bbe-4d9c-838e-825ecd4ff41c",
   "metadata": {},
   "outputs": [
    {
     "data": {
      "text/plain": [
       "['a',\n",
       " 'about',\n",
       " 'above',\n",
       " 'after',\n",
       " 'again',\n",
       " 'against',\n",
       " 'ain',\n",
       " 'all',\n",
       " 'am',\n",
       " 'an',\n",
       " 'and',\n",
       " 'any',\n",
       " 'are',\n",
       " 'aren',\n",
       " \"aren't\",\n",
       " 'as',\n",
       " 'at',\n",
       " 'be',\n",
       " 'because',\n",
       " 'been',\n",
       " 'before',\n",
       " 'being',\n",
       " 'below',\n",
       " 'between',\n",
       " 'both',\n",
       " 'but',\n",
       " 'by',\n",
       " 'can',\n",
       " 'couldn',\n",
       " \"couldn't\",\n",
       " 'd',\n",
       " 'did',\n",
       " 'didn',\n",
       " \"didn't\",\n",
       " 'do',\n",
       " 'does',\n",
       " 'doesn',\n",
       " \"doesn't\",\n",
       " 'doing',\n",
       " 'don',\n",
       " \"don't\",\n",
       " 'down',\n",
       " 'during',\n",
       " 'each',\n",
       " 'few',\n",
       " 'for',\n",
       " 'from',\n",
       " 'further',\n",
       " 'had',\n",
       " 'hadn',\n",
       " \"hadn't\",\n",
       " 'has',\n",
       " 'hasn',\n",
       " \"hasn't\",\n",
       " 'have',\n",
       " 'haven',\n",
       " \"haven't\",\n",
       " 'having',\n",
       " 'he',\n",
       " \"he'd\",\n",
       " \"he'll\",\n",
       " 'her',\n",
       " 'here',\n",
       " 'hers',\n",
       " 'herself',\n",
       " \"he's\",\n",
       " 'him',\n",
       " 'himself',\n",
       " 'his',\n",
       " 'how',\n",
       " 'i',\n",
       " \"i'd\",\n",
       " 'if',\n",
       " \"i'll\",\n",
       " \"i'm\",\n",
       " 'in',\n",
       " 'into',\n",
       " 'is',\n",
       " 'isn',\n",
       " \"isn't\",\n",
       " 'it',\n",
       " \"it'd\",\n",
       " \"it'll\",\n",
       " \"it's\",\n",
       " 'its',\n",
       " 'itself',\n",
       " \"i've\",\n",
       " 'just',\n",
       " 'll',\n",
       " 'm',\n",
       " 'ma',\n",
       " 'me',\n",
       " 'mightn',\n",
       " \"mightn't\",\n",
       " 'more',\n",
       " 'most',\n",
       " 'mustn',\n",
       " \"mustn't\",\n",
       " 'my',\n",
       " 'myself',\n",
       " 'needn',\n",
       " \"needn't\",\n",
       " 'no',\n",
       " 'nor',\n",
       " 'not',\n",
       " 'now',\n",
       " 'o',\n",
       " 'of',\n",
       " 'off',\n",
       " 'on',\n",
       " 'once',\n",
       " 'only',\n",
       " 'or',\n",
       " 'other',\n",
       " 'our',\n",
       " 'ours',\n",
       " 'ourselves',\n",
       " 'out',\n",
       " 'over',\n",
       " 'own',\n",
       " 're',\n",
       " 's',\n",
       " 'same',\n",
       " 'shan',\n",
       " \"shan't\",\n",
       " 'she',\n",
       " \"she'd\",\n",
       " \"she'll\",\n",
       " \"she's\",\n",
       " 'should',\n",
       " 'shouldn',\n",
       " \"shouldn't\",\n",
       " \"should've\",\n",
       " 'so',\n",
       " 'some',\n",
       " 'such',\n",
       " 't',\n",
       " 'than',\n",
       " 'that',\n",
       " \"that'll\",\n",
       " 'the',\n",
       " 'their',\n",
       " 'theirs',\n",
       " 'them',\n",
       " 'themselves',\n",
       " 'then',\n",
       " 'there',\n",
       " 'these',\n",
       " 'they',\n",
       " \"they'd\",\n",
       " \"they'll\",\n",
       " \"they're\",\n",
       " \"they've\",\n",
       " 'this',\n",
       " 'those',\n",
       " 'through',\n",
       " 'to',\n",
       " 'too',\n",
       " 'under',\n",
       " 'until',\n",
       " 'up',\n",
       " 've',\n",
       " 'very',\n",
       " 'was',\n",
       " 'wasn',\n",
       " \"wasn't\",\n",
       " 'we',\n",
       " \"we'd\",\n",
       " \"we'll\",\n",
       " \"we're\",\n",
       " 'were',\n",
       " 'weren',\n",
       " \"weren't\",\n",
       " \"we've\",\n",
       " 'what',\n",
       " 'when',\n",
       " 'where',\n",
       " 'which',\n",
       " 'while',\n",
       " 'who',\n",
       " 'whom',\n",
       " 'why',\n",
       " 'will',\n",
       " 'with',\n",
       " 'won',\n",
       " \"won't\",\n",
       " 'wouldn',\n",
       " \"wouldn't\",\n",
       " 'y',\n",
       " 'you',\n",
       " \"you'd\",\n",
       " \"you'll\",\n",
       " 'your',\n",
       " \"you're\",\n",
       " 'yours',\n",
       " 'yourself',\n",
       " 'yourselves',\n",
       " \"you've\"]"
      ]
     },
     "execution_count": 279,
     "metadata": {},
     "output_type": "execute_result"
    }
   ],
   "source": [
    "from nltk.corpus import stopwords\n",
    "stopwords.words('english')"
   ]
  },
  {
   "cell_type": "code",
   "execution_count": 280,
   "id": "ca24248c-fbbd-43a9-b401-0a58b61f1695",
   "metadata": {},
   "outputs": [
    {
     "name": "stderr",
     "output_type": "stream",
     "text": [
      "[nltk_data] Downloading package stopwords to\n",
      "[nltk_data]     C:\\Users\\ahmed\\AppData\\Roaming\\nltk_data...\n",
      "[nltk_data]   Package stopwords is already up-to-date!\n"
     ]
    },
    {
     "data": {
      "text/plain": [
       "True"
      ]
     },
     "execution_count": 280,
     "metadata": {},
     "output_type": "execute_result"
    }
   ],
   "source": [
    "nltk.download('stopwords')"
   ]
  },
  {
   "cell_type": "code",
   "execution_count": 281,
   "id": "a03fa3b4-c5a6-4877-a419-09a027d4fcb3",
   "metadata": {},
   "outputs": [
    {
     "data": {
      "text/plain": [
       "'!\"#$%&\\'()*+,-./:;<=>?@[\\\\]^_`{|}~'"
      ]
     },
     "execution_count": 281,
     "metadata": {},
     "output_type": "execute_result"
    }
   ],
   "source": [
    "import string\n",
    "string.punctuation"
   ]
  },
  {
   "cell_type": "code",
   "execution_count": 282,
   "id": "e1bf22d2-1066-48d5-9708-6fa2d4048b41",
   "metadata": {},
   "outputs": [
    {
     "data": {
      "text/plain": [
       "'danc'"
      ]
     },
     "execution_count": 282,
     "metadata": {},
     "output_type": "execute_result"
    }
   ],
   "source": [
    "from nltk.stem.porter import PorterStemmer\n",
    "ps = PorterStemmer()\n",
    "ps.stem('dancing')"
   ]
  },
  {
   "cell_type": "code",
   "execution_count": 283,
   "id": "21508b68-a9b7-4c18-9c24-51b2bdd77b65",
   "metadata": {},
   "outputs": [],
   "source": [
    "def transform_text(text):\n",
    "    text=text.lower()\n",
    "    text = nltk.word_tokenize(text)\n",
    "\n",
    "    y = []\n",
    "    for i in text:\n",
    "        if i.isalnum():\n",
    "            y.append(i)\n",
    "    text = y[:]\n",
    "    y.clear()\n",
    "\n",
    "    for i in text:\n",
    "        if i not in stopwords.words('english') and i not in string.punctuation:\n",
    "            y.append(i)\n",
    "    text = y[:]\n",
    "    y.clear()\n",
    "\n",
    "    for i in text:\n",
    "        y.append(ps.stem(i))\n",
    "        \n",
    "    return \" \".join(y)"
   ]
  },
  {
   "cell_type": "code",
   "execution_count": 284,
   "id": "ca53f0c2-1cc6-4e28-9806-345c508d2f6e",
   "metadata": {},
   "outputs": [
    {
     "data": {
      "text/plain": [
       "'save 70 life insur spend life quot save ensur famili financi secur import life quot save make buy life insur simpl afford provid free access best compani lowest rate life quot save fast easi save money let us help get start best valu countri new coverag save hundr even thousand dollar request free quot lifequot save servic take less 5 minut complet shop compar save 70 type life insur click free quot protect famili best invest ever make receipt email error wish remov list pleas click type remov resid state prohibit solicit insur pleas disregard email'"
      ]
     },
     "execution_count": 284,
     "metadata": {},
     "output_type": "execute_result"
    }
   ],
   "source": [
    "transform_text(\"\"\" \n",
    "Save up to 70% on Life Insurance.\n",
    "Why Spend More Than You Have To? Life Quote Savings\n",
    "Ensuring your family's financial security is very important.\n",
    "Life Quote Savings makes buying life insurance simple and affordable.\n",
    "We Provide FREE Access to The Very Best Companies and The Lowest Rates.\n",
    "Life Quote Savings is FAST, EASY and SAVES you money! Let us help you get started \n",
    "with the best values in the country on new coverage. You can SAVE hundreds or \n",
    "even thousands of dollars by requesting a FREE quote from Lifequote Savings. \n",
    "Our service will take you less than 5 minutes to complete. Shop and compare. \n",
    "SAVE up to 70% on all types of Life insurance! Click Here For Your Free Quote!\n",
    "Protecting your family is the best investment you'll ever make!\n",
    "\n",
    "If you are in receipt of this email in error and/or wish to be removed from our list, \n",
    "PLEASE CLICK HERE AND TYPE REMOVE. If you reside in any state which prohibits e-mail \n",
    "solicitations for insurance, please disregard this email.\n",
    "\"\"\")"
   ]
  },
  {
   "cell_type": "code",
   "execution_count": 285,
   "id": "f64c7106-4ca3-4738-adc4-8b47e4acb56d",
   "metadata": {},
   "outputs": [
    {
     "data": {
      "text/plain": [
       "\"\\nSave up to 70% on Life Insurance.\\nWhy Spend More Than You Have To?Life Quote Savings\\nEnsuring your \\n      family's financial security is very important. Life Quote Savings makes \\n      buying life insurance simple and affordable. We Provide FREE Access to The \\n      Very Best Companies and The Lowest Rates.Life Quote Savings is FAST, EASY and \\n            SAVES you money! Let us help you get started with the best values in \\n            the country on new coverage. You can SAVE hundreds or even thousands \\n            of dollars by requesting a FREE quote from Lifequote Savings. Our \\n            service will take you less than 5 minutes to complete. Shop and \\n            compare. SAVE up to 70% on all types of Life insurance! Click Here For Your \\n            Free Quote!Protecting your family is the best investment you'll ever \\n          make!\\nIf you are in receipt of this email \\n      in error and/or wish to be removed from our list, PLEASE CLICK HERE AND TYPE REMOVE. If you \\n      reside in any state which prohibits e-mail solicitations for insurance, \\n      please disregard this \\n      email.\\n\""
      ]
     },
     "execution_count": 285,
     "metadata": {},
     "output_type": "execute_result"
    }
   ],
   "source": [
    "df['Body'][0]"
   ]
  },
  {
   "cell_type": "code",
   "execution_count": 286,
   "id": "25b41eb3-bc68-4ab8-8c7a-e9413619b674",
   "metadata": {},
   "outputs": [],
   "source": [
    "df['transformed_text'] = df['Body'].apply(transform_text) "
   ]
  },
  {
   "cell_type": "code",
   "execution_count": 287,
   "id": "a0fd32bb-dfd5-41c6-9826-b0b84922ee9a",
   "metadata": {},
   "outputs": [
    {
     "data": {
      "text/html": [
       "<div>\n",
       "<style scoped>\n",
       "    .dataframe tbody tr th:only-of-type {\n",
       "        vertical-align: middle;\n",
       "    }\n",
       "\n",
       "    .dataframe tbody tr th {\n",
       "        vertical-align: top;\n",
       "    }\n",
       "\n",
       "    .dataframe thead th {\n",
       "        text-align: right;\n",
       "    }\n",
       "</style>\n",
       "<table border=\"1\" class=\"dataframe\">\n",
       "  <thead>\n",
       "    <tr style=\"text-align: right;\">\n",
       "      <th></th>\n",
       "      <th>Unnamed: 0</th>\n",
       "      <th>Body</th>\n",
       "      <th>Label</th>\n",
       "      <th>no_of_characters</th>\n",
       "      <th>no_of_words</th>\n",
       "      <th>no_of_sentences</th>\n",
       "      <th>transformed_text</th>\n",
       "    </tr>\n",
       "  </thead>\n",
       "  <tbody>\n",
       "    <tr>\n",
       "      <th>0</th>\n",
       "      <td>0</td>\n",
       "      <td>\\nSave up to 70% on Life Insurance.\\nWhy Spend...</td>\n",
       "      <td>1</td>\n",
       "      <td>1111</td>\n",
       "      <td>191</td>\n",
       "      <td>12</td>\n",
       "      <td>save 70 life insur spend life quot save ensur ...</td>\n",
       "    </tr>\n",
       "    <tr>\n",
       "      <th>1</th>\n",
       "      <td>1</td>\n",
       "      <td>1) Fight The Risk of Cancer!\\nhttp://www.adcli...</td>\n",
       "      <td>1</td>\n",
       "      <td>753</td>\n",
       "      <td>139</td>\n",
       "      <td>5</td>\n",
       "      <td>1 fight risk cancer http slim guarante lose lb...</td>\n",
       "    </tr>\n",
       "    <tr>\n",
       "      <th>2</th>\n",
       "      <td>2</td>\n",
       "      <td>1) Fight The Risk of Cancer!\\nhttp://www.adcli...</td>\n",
       "      <td>1</td>\n",
       "      <td>610</td>\n",
       "      <td>113</td>\n",
       "      <td>4</td>\n",
       "      <td>1 fight risk cancer http slim guarante lose lb...</td>\n",
       "    </tr>\n",
       "    <tr>\n",
       "      <th>3</th>\n",
       "      <td>3</td>\n",
       "      <td>##############################################...</td>\n",
       "      <td>1</td>\n",
       "      <td>2863</td>\n",
       "      <td>690</td>\n",
       "      <td>35</td>\n",
       "      <td>adult club offer free membership instant acces...</td>\n",
       "    </tr>\n",
       "    <tr>\n",
       "      <th>4</th>\n",
       "      <td>4</td>\n",
       "      <td>I thought you might like these:\\n1) Slim Down ...</td>\n",
       "      <td>1</td>\n",
       "      <td>641</td>\n",
       "      <td>108</td>\n",
       "      <td>4</td>\n",
       "      <td>thought might like 1 slim guarante lose lb 30 ...</td>\n",
       "    </tr>\n",
       "  </tbody>\n",
       "</table>\n",
       "</div>"
      ],
      "text/plain": [
       "   Unnamed: 0                                               Body  Label  \\\n",
       "0           0  \\nSave up to 70% on Life Insurance.\\nWhy Spend...      1   \n",
       "1           1  1) Fight The Risk of Cancer!\\nhttp://www.adcli...      1   \n",
       "2           2  1) Fight The Risk of Cancer!\\nhttp://www.adcli...      1   \n",
       "3           3  ##############################################...      1   \n",
       "4           4  I thought you might like these:\\n1) Slim Down ...      1   \n",
       "\n",
       "   no_of_characters  no_of_words  no_of_sentences  \\\n",
       "0              1111          191               12   \n",
       "1               753          139                5   \n",
       "2               610          113                4   \n",
       "3              2863          690               35   \n",
       "4               641          108                4   \n",
       "\n",
       "                                    transformed_text  \n",
       "0  save 70 life insur spend life quot save ensur ...  \n",
       "1  1 fight risk cancer http slim guarante lose lb...  \n",
       "2  1 fight risk cancer http slim guarante lose lb...  \n",
       "3  adult club offer free membership instant acces...  \n",
       "4  thought might like 1 slim guarante lose lb 30 ...  "
      ]
     },
     "execution_count": 287,
     "metadata": {},
     "output_type": "execute_result"
    }
   ],
   "source": [
    "df.head()"
   ]
  },
  {
   "cell_type": "code",
   "execution_count": 288,
   "id": "588faa15-3d3d-434d-bfec-253a290236b9",
   "metadata": {},
   "outputs": [
    {
     "name": "stdout",
     "output_type": "stream",
     "text": [
      "Requirement already satisfied: wordcloud in c:\\users\\ahmed\\appdata\\local\\programs\\python\\python312\\lib\\site-packages (1.9.4)\n",
      "Requirement already satisfied: numpy>=1.6.1 in c:\\users\\ahmed\\appdata\\local\\programs\\python\\python312\\lib\\site-packages (from wordcloud) (2.2.5)\n",
      "Requirement already satisfied: pillow in c:\\users\\ahmed\\appdata\\local\\programs\\python\\python312\\lib\\site-packages (from wordcloud) (11.2.1)\n",
      "Requirement already satisfied: matplotlib in c:\\users\\ahmed\\appdata\\local\\programs\\python\\python312\\lib\\site-packages (from wordcloud) (3.10.1)\n",
      "Requirement already satisfied: contourpy>=1.0.1 in c:\\users\\ahmed\\appdata\\local\\programs\\python\\python312\\lib\\site-packages (from matplotlib->wordcloud) (1.3.2)\n",
      "Requirement already satisfied: cycler>=0.10 in c:\\users\\ahmed\\appdata\\local\\programs\\python\\python312\\lib\\site-packages (from matplotlib->wordcloud) (0.12.1)\n",
      "Requirement already satisfied: fonttools>=4.22.0 in c:\\users\\ahmed\\appdata\\local\\programs\\python\\python312\\lib\\site-packages (from matplotlib->wordcloud) (4.57.0)\n",
      "Requirement already satisfied: kiwisolver>=1.3.1 in c:\\users\\ahmed\\appdata\\local\\programs\\python\\python312\\lib\\site-packages (from matplotlib->wordcloud) (1.4.8)\n",
      "Requirement already satisfied: packaging>=20.0 in c:\\users\\ahmed\\appdata\\local\\programs\\python\\python312\\lib\\site-packages (from matplotlib->wordcloud) (25.0)\n",
      "Requirement already satisfied: pyparsing>=2.3.1 in c:\\users\\ahmed\\appdata\\local\\programs\\python\\python312\\lib\\site-packages (from matplotlib->wordcloud) (3.2.3)\n",
      "Requirement already satisfied: python-dateutil>=2.7 in c:\\users\\ahmed\\appdata\\local\\programs\\python\\python312\\lib\\site-packages (from matplotlib->wordcloud) (2.9.0.post0)\n",
      "Requirement already satisfied: six>=1.5 in c:\\users\\ahmed\\appdata\\local\\programs\\python\\python312\\lib\\site-packages (from python-dateutil>=2.7->matplotlib->wordcloud) (1.17.0)\n",
      "Note: you may need to restart the kernel to use updated packages.\n"
     ]
    },
    {
     "name": "stderr",
     "output_type": "stream",
     "text": [
      "\n",
      "[notice] A new release of pip is available: 24.3.1 -> 25.1.1\n",
      "[notice] To update, run: python.exe -m pip install --upgrade pip\n"
     ]
    }
   ],
   "source": [
    "pip install wordcloud"
   ]
  },
  {
   "cell_type": "code",
   "execution_count": 289,
   "id": "4ee96b1c-d3c6-4eaf-8f56-b8f82453596a",
   "metadata": {},
   "outputs": [],
   "source": [
    "from wordcloud import WordCloud\n",
    "wc = WordCloud(width = 800, height = 600 , min_font_size=10,background_color='white')\n"
   ]
  },
  {
   "cell_type": "code",
   "execution_count": 290,
   "id": "5587d51e-a325-4a71-bb0c-29687b2b933b",
   "metadata": {},
   "outputs": [],
   "source": [
    "spam_wc = wc.generate(df[df['Label'] ==1]['transformed_text'].str.cat(sep=\" \"))\n"
   ]
  },
  {
   "cell_type": "code",
   "execution_count": 291,
   "id": "8462a0b3-56b4-40f8-96c9-e00682cf5add",
   "metadata": {},
   "outputs": [
    {
     "data": {
      "text/plain": [
       "<matplotlib.image.AxesImage at 0x241ab0294c0>"
      ]
     },
     "execution_count": 291,
     "metadata": {},
     "output_type": "execute_result"
    },
    {
     "data": {
      "image/png": "[encoded data removed]",
      "text/plain": [
       "<Figure size 640x480 with 1 Axes>"
      ]
     },
     "metadata": {},
     "output_type": "display_data"
    }
   ],
   "source": [
    "plt.imshow(spam_wc)"
   ]
  },
  {
   "cell_type": "code",
   "execution_count": 292,
   "id": "ef3bf214-fd36-4f52-9f45-977eb537456e",
   "metadata": {},
   "outputs": [],
   "source": [
    "ham_wc = wc.generate(df[df['Label'] ==0]['transformed_text'].str.cat(sep=\" \"))"
   ]
  },
  {
   "cell_type": "code",
   "execution_count": 293,
   "id": "a1e3ad0d-468e-4fad-a029-529647089b2f",
   "metadata": {},
   "outputs": [
    {
     "data": {
      "text/plain": [
       "<matplotlib.image.AxesImage at 0x2418fb56000>"
      ]
     },
     "execution_count": 293,
     "metadata": {},
     "output_type": "execute_result"
    },
    {
     "data": {
      "image/png": "[encoded data removed]",
      "text/plain": [
       "<Figure size 640x480 with 1 Axes>"
      ]
     },
     "metadata": {},
     "output_type": "display_data"
    }
   ],
   "source": [
    "plt.imshow(spam_wc)"
   ]
  },
  {
   "cell_type": "code",
   "execution_count": 294,
   "id": "0d2188ea-df17-45bd-8112-1dcce2aeac3c",
   "metadata": {},
   "outputs": [
    {
     "data": {
      "text/html": [
       "<div>\n",
       "<style scoped>\n",
       "    .dataframe tbody tr th:only-of-type {\n",
       "        vertical-align: middle;\n",
       "    }\n",
       "\n",
       "    .dataframe tbody tr th {\n",
       "        vertical-align: top;\n",
       "    }\n",
       "\n",
       "    .dataframe thead th {\n",
       "        text-align: right;\n",
       "    }\n",
       "</style>\n",
       "<table border=\"1\" class=\"dataframe\">\n",
       "  <thead>\n",
       "    <tr style=\"text-align: right;\">\n",
       "      <th></th>\n",
       "      <th>Unnamed: 0</th>\n",
       "      <th>Body</th>\n",
       "      <th>Label</th>\n",
       "      <th>no_of_characters</th>\n",
       "      <th>no_of_words</th>\n",
       "      <th>no_of_sentences</th>\n",
       "      <th>transformed_text</th>\n",
       "    </tr>\n",
       "  </thead>\n",
       "  <tbody>\n",
       "    <tr>\n",
       "      <th>0</th>\n",
       "      <td>0</td>\n",
       "      <td>\\nSave up to 70% on Life Insurance.\\nWhy Spend...</td>\n",
       "      <td>1</td>\n",
       "      <td>1111</td>\n",
       "      <td>191</td>\n",
       "      <td>12</td>\n",
       "      <td>save 70 life insur spend life quot save ensur ...</td>\n",
       "    </tr>\n",
       "    <tr>\n",
       "      <th>1</th>\n",
       "      <td>1</td>\n",
       "      <td>1) Fight The Risk of Cancer!\\nhttp://www.adcli...</td>\n",
       "      <td>1</td>\n",
       "      <td>753</td>\n",
       "      <td>139</td>\n",
       "      <td>5</td>\n",
       "      <td>1 fight risk cancer http slim guarante lose lb...</td>\n",
       "    </tr>\n",
       "    <tr>\n",
       "      <th>2</th>\n",
       "      <td>2</td>\n",
       "      <td>1) Fight The Risk of Cancer!\\nhttp://www.adcli...</td>\n",
       "      <td>1</td>\n",
       "      <td>610</td>\n",
       "      <td>113</td>\n",
       "      <td>4</td>\n",
       "      <td>1 fight risk cancer http slim guarante lose lb...</td>\n",
       "    </tr>\n",
       "    <tr>\n",
       "      <th>3</th>\n",
       "      <td>3</td>\n",
       "      <td>##############################################...</td>\n",
       "      <td>1</td>\n",
       "      <td>2863</td>\n",
       "      <td>690</td>\n",
       "      <td>35</td>\n",
       "      <td>adult club offer free membership instant acces...</td>\n",
       "    </tr>\n",
       "    <tr>\n",
       "      <th>4</th>\n",
       "      <td>4</td>\n",
       "      <td>I thought you might like these:\\n1) Slim Down ...</td>\n",
       "      <td>1</td>\n",
       "      <td>641</td>\n",
       "      <td>108</td>\n",
       "      <td>4</td>\n",
       "      <td>thought might like 1 slim guarante lose lb 30 ...</td>\n",
       "    </tr>\n",
       "  </tbody>\n",
       "</table>\n",
       "</div>"
      ],
      "text/plain": [
       "   Unnamed: 0                                               Body  Label  \\\n",
       "0           0  \\nSave up to 70% on Life Insurance.\\nWhy Spend...      1   \n",
       "1           1  1) Fight The Risk of Cancer!\\nhttp://www.adcli...      1   \n",
       "2           2  1) Fight The Risk of Cancer!\\nhttp://www.adcli...      1   \n",
       "3           3  ##############################################...      1   \n",
       "4           4  I thought you might like these:\\n1) Slim Down ...      1   \n",
       "\n",
       "   no_of_characters  no_of_words  no_of_sentences  \\\n",
       "0              1111          191               12   \n",
       "1               753          139                5   \n",
       "2               610          113                4   \n",
       "3              2863          690               35   \n",
       "4               641          108                4   \n",
       "\n",
       "                                    transformed_text  \n",
       "0  save 70 life insur spend life quot save ensur ...  \n",
       "1  1 fight risk cancer http slim guarante lose lb...  \n",
       "2  1 fight risk cancer http slim guarante lose lb...  \n",
       "3  adult club offer free membership instant acces...  \n",
       "4  thought might like 1 slim guarante lose lb 30 ...  "
      ]
     },
     "execution_count": 294,
     "metadata": {},
     "output_type": "execute_result"
    }
   ],
   "source": [
    "df.head()"
   ]
  },
  {
   "cell_type": "code",
   "execution_count": 295,
   "id": "58362a59-4976-49fa-9e67-ca1813f741de",
   "metadata": {},
   "outputs": [],
   "source": [
    "spam_corpus =[]\n",
    "for msg in df[df['Label'] == 1]['transformed_text'].tolist():\n",
    "    for word in msg.split():\n",
    "        spam_corpus.append(word)"
   ]
  },
  {
   "cell_type": "code",
   "execution_count": 296,
   "id": "e194b4f0-c251-4c60-89d3-231bb51d6786",
   "metadata": {},
   "outputs": [
    {
     "data": {
      "text/plain": [
       "276966"
      ]
     },
     "execution_count": 296,
     "metadata": {},
     "output_type": "execute_result"
    }
   ],
   "source": [
    "len(spam_corpus)"
   ]
  },
  {
   "cell_type": "code",
   "execution_count": 297,
   "id": "6435f0d4-7a31-4a6c-93bf-9f3448833665",
   "metadata": {},
   "outputs": [
    {
     "data": {
      "image/png": "[encoded data removed]",
      "text/plain": [
       "<Figure size 1000x600 with 1 Axes>"
      ]
     },
     "metadata": {},
     "output_type": "display_data"
    }
   ],
   "source": [
    "from collections import Counter\n",
    "\n",
    "# Create DataFrame from most common 30 words\n",
    "df2 = pd.DataFrame(Counter(spam_corpus).most_common(30), columns=['word', 'count'])\n",
    "\n",
    "# Plot\n",
    "plt.figure(figsize=(10, 6))\n",
    "sns.barplot(x='word', y='count', data=df2)\n",
    "plt.xticks(rotation='vertical')\n",
    "plt.show()"
   ]
  },
  {
   "cell_type": "code",
   "execution_count": 298,
   "id": "8010329d-6a38-45b6-ab13-bdd81e145358",
   "metadata": {},
   "outputs": [
    {
     "name": "stdout",
     "output_type": "stream",
     "text": [
      "Requirement already satisfied: scikit-learn in c:\\users\\ahmed\\appdata\\local\\programs\\python\\python312\\lib\\site-packages (1.6.1)\n",
      "Requirement already satisfied: numpy>=1.19.5 in c:\\users\\ahmed\\appdata\\local\\programs\\python\\python312\\lib\\site-packages (from scikit-learn) (2.2.5)\n",
      "Requirement already satisfied: scipy>=1.6.0 in c:\\users\\ahmed\\appdata\\local\\programs\\python\\python312\\lib\\site-packages (from scikit-learn) (1.15.3)\n",
      "Requirement already satisfied: joblib>=1.2.0 in c:\\users\\ahmed\\appdata\\local\\programs\\python\\python312\\lib\\site-packages (from scikit-learn) (1.4.2)\n",
      "Requirement already satisfied: threadpoolctl>=3.1.0 in c:\\users\\ahmed\\appdata\\local\\programs\\python\\python312\\lib\\site-packages (from scikit-learn) (3.6.0)\n"
     ]
    },
    {
     "name": "stderr",
     "output_type": "stream",
     "text": [
      "\n",
      "[notice] A new release of pip is available: 24.3.1 -> 25.1.1\n",
      "[notice] To update, run: python.exe -m pip install --upgrade pip\n"
     ]
    }
   ],
   "source": [
    "!pip install scikit-learn\n"
   ]
  },
  {
   "cell_type": "code",
   "execution_count": 310,
   "id": "989d09f4-6f3d-4dcf-9689-e9d3df0c09fd",
   "metadata": {},
   "outputs": [],
   "source": [
    "from sklearn.feature_extraction.text import CountVectorizer\n",
    "cv = CountVectorizer(max_features=3000)\n"
   ]
  },
  {
   "cell_type": "code",
   "execution_count": 312,
   "id": "6625a5eb-3659-49f6-be22-cdefd1fdf564",
   "metadata": {},
   "outputs": [],
   "source": [
    "X = cv.fit_transform(df['transformed_text']).toarray()"
   ]
  },
  {
   "cell_type": "code",
   "execution_count": 313,
   "id": "1774ef53-8af5-4fea-a749-5492ff3a8b1a",
   "metadata": {},
   "outputs": [
    {
     "data": {
      "text/plain": [
       "(6045, 3000)"
      ]
     },
     "execution_count": 313,
     "metadata": {},
     "output_type": "execute_result"
    }
   ],
   "source": [
    "X.shape"
   ]
  },
  {
   "cell_type": "code",
   "execution_count": 315,
   "id": "fec5f5af-d4cc-4ed1-a280-9b608ee443c7",
   "metadata": {},
   "outputs": [],
   "source": [
    "y=df['Label'].values"
   ]
  },
  {
   "cell_type": "code",
   "execution_count": 316,
   "id": "f3dd1846-2ba3-4106-a86b-2ae42bf22c7d",
   "metadata": {},
   "outputs": [
    {
     "data": {
      "text/plain": [
       "array([1, 1, 1, ..., 0, 0, 0], shape=(6045,))"
      ]
     },
     "execution_count": 316,
     "metadata": {},
     "output_type": "execute_result"
    }
   ],
   "source": [
    "y"
   ]
  },
  {
   "cell_type": "code",
   "execution_count": 317,
   "id": "a976554a-ff8c-488c-afe3-30d04e7696e6",
   "metadata": {},
   "outputs": [],
   "source": [
    "from sklearn.model_selection import train_test_split"
   ]
  },
  {
   "cell_type": "code",
   "execution_count": 318,
   "id": "7955d712-8fdc-430a-bec1-c3f03ee236f4",
   "metadata": {},
   "outputs": [],
   "source": [
    "X_train,X_test,y_train,y_test= train_test_split(X,y,test_size=0.2,random_state=2)"
   ]
  },
  {
   "cell_type": "code",
   "execution_count": 319,
   "id": "109537ca-1c37-44e8-b9a0-5d5bce2fa1dc",
   "metadata": {},
   "outputs": [],
   "source": [
    "from sklearn.naive_bayes import GaussianNB,MultinomialNB,BernoulliNB\n",
    "from sklearn.metrics import accuracy_score,confusion_matrix,precision_score"
   ]
  },
  {
   "cell_type": "code",
   "execution_count": 320,
   "id": "96f58f33-3636-40ad-ae5a-bfdc3ece9458",
   "metadata": {},
   "outputs": [],
   "source": [
    "gnb = GaussianNB()\n",
    "mnb = MultinomialNB()\n",
    "bnb = BernoulliNB()"
   ]
  },
  {
   "cell_type": "code",
   "execution_count": 321,
   "id": "0f34b0d7-7164-4fd6-857a-3560e46a2064",
   "metadata": {},
   "outputs": [
    {
     "name": "stdout",
     "output_type": "stream",
     "text": [
      "0.8395368072787428\n",
      "[[643 166]\n",
      " [ 28 372]]\n",
      "0.6914498141263941\n"
     ]
    }
   ],
   "source": [
    "gnb.fit(X_train,y_train)\n",
    "y_pred1 = gnb.predict(X_test)\n",
    "print(accuracy_score(y_test,y_pred1))\n",
    "print(confusion_matrix(y_test,y_pred1))\n",
    "print(precision_score(y_test,y_pred1))"
   ]
  },
  {
   "cell_type": "code",
   "execution_count": 322,
   "id": "7d4a4c6d-33e4-482e-bb5e-1189f9a641c6",
   "metadata": {},
   "outputs": [
    {
     "name": "stdout",
     "output_type": "stream",
     "text": [
      "0.9437551695616212\n",
      "[[765  44]\n",
      " [ 24 376]]\n",
      "0.8952380952380953\n"
     ]
    }
   ],
   "source": [
    "mnb.fit(X_train,y_train)\n",
    "y_pred2 = mnb.predict(X_test)\n",
    "print(accuracy_score(y_test,y_pred2))\n",
    "print(confusion_matrix(y_test,y_pred2))\n",
    "print(precision_score(y_test,y_pred2))"
   ]
  },
  {
   "cell_type": "code",
   "execution_count": 323,
   "id": "e1016b2a-f411-4a74-a656-4f56f936e135",
   "metadata": {},
   "outputs": [
    {
     "name": "stdout",
     "output_type": "stream",
     "text": [
      "0.9454094292803971\n",
      "[[759  50]\n",
      " [ 16 384]]\n",
      "0.8847926267281107\n"
     ]
    }
   ],
   "source": [
    "bnb.fit(X_train,y_train)\n",
    "y_pred3 = bnb.predict(X_test)\n",
    "print(accuracy_score(y_test,y_pred3))\n",
    "print(confusion_matrix(y_test,y_pred3))\n",
    "print(precision_score(y_test,y_pred3))"
   ]
  },
  {
   "cell_type": "code",
   "execution_count": null,
   "id": "ecd5f2a9-7f17-4264-b260-5ba3c1bf1b05",
   "metadata": {},
   "outputs": [],
   "source": [
    "# choosen Counter Vector and mnb"
   ]
  },
  {
   "cell_type": "code",
   "execution_count": 324,
   "id": "4bd0acc8-4162-4668-8ba6-6a0f64faf51f",
   "metadata": {},
   "outputs": [],
   "source": [
    "from sklearn.linear_model import LogisticRegression\n",
    "from sklearn.svm import SVC\n",
    "from sklearn.naive_bayes import MultinomialNB\n",
    "from sklearn.tree import DecisionTreeClassifier\n",
    "from sklearn.neighbors import KNeighborsClassifier\n",
    "from sklearn.ensemble import RandomForestClassifier\n",
    "from sklearn.ensemble import AdaBoostClassifier\n",
    "from sklearn.ensemble import BaggingClassifier\n",
    "from sklearn.ensemble import ExtraTreesClassifier\n",
    "from sklearn.ensemble import GradientBoostingClassifier\n"
   ]
  },
  {
   "cell_type": "code",
   "execution_count": 325,
   "id": "ba3f48a3-ccdf-4d8d-a9bc-c03783d7f570",
   "metadata": {},
   "outputs": [],
   "source": [
    "svc = SVC(kernel='sigmoid', gamma=1.0)\n",
    "knc = KNeighborsClassifier()\n",
    "mnb = MultinomialNB()\n",
    "dtc = DecisionTreeClassifier(max_depth=5)\n",
    "lrc = LogisticRegression(solver='liblinear', penalty='l1')\n",
    "rfc = RandomForestClassifier(n_estimators=50, random_state=2)\n",
    "abc = AdaBoostClassifier(n_estimators=50, random_state=2)\n",
    "bc = BaggingClassifier(n_estimators=50, random_state=2)\n",
    "etc = ExtraTreesClassifier(n_estimators=50, random_state=2)\n",
    "gbdt = GradientBoostingClassifier(n_estimators=50,random_state=2)"
   ]
  },
  {
   "cell_type": "code",
   "execution_count": 326,
   "id": "9354add3-256e-4b6f-8059-72589d07f4ba",
   "metadata": {},
   "outputs": [],
   "source": [
    "clfs = {\n",
    "    'SVC' : svc,\n",
    "    'KN' : knc, \n",
    "    'NB': mnb, \n",
    "    'DT': dtc, \n",
    "    'LR': lrc, \n",
    "    'RF': rfc, \n",
    "    'AdaBoost': abc, \n",
    "    'BgC': bc, \n",
    "    'ETC': etc,\n",
    "    'GBDT':gbdt,\n",
    "\n",
    "}"
   ]
  },
  {
   "cell_type": "code",
   "execution_count": 327,
   "id": "a2158f43-2159-45d1-a2d8-5300c8f2ec00",
   "metadata": {},
   "outputs": [],
   "source": [
    "def train_classifier(clf,X_train,y_train,X_test,y_test):\n",
    "    clf.fit(X_train,y_train)\n",
    "    y_pred = clf.predict(X_test)\n",
    "    accuracy = accuracy_score(y_test,y_pred)\n",
    "    precision = precision_score(y_test,y_pred)\n",
    "    \n",
    "    return accuracy,precision"
   ]
  },
  {
   "cell_type": "code",
   "execution_count": 328,
   "id": "38cac56a-3228-4a36-ac87-b0ba14a5c5e8",
   "metadata": {},
   "outputs": [
    {
     "name": "stdout",
     "output_type": "stream",
     "text": [
      "For  SVC\n",
      "Accuracy -  0.652605459057072\n",
      "Precision -  0.47076023391812866\n",
      "For  KN\n",
      "Accuracy -  0.8006617038875103\n",
      "Precision -  0.6363636363636364\n",
      "For  NB\n",
      "Accuracy -  0.9437551695616212\n",
      "Precision -  0.8952380952380953\n",
      "For  DT\n",
      "Accuracy -  0.8866832092638545\n",
      "Precision -  0.8488063660477454\n",
      "For  LR\n",
      "Accuracy -  0.9454094292803971\n",
      "Precision -  0.8883720930232558\n",
      "For  RF\n",
      "Accuracy -  0.9470636889991728\n",
      "Precision -  0.8870967741935484\n",
      "For  AdaBoost\n",
      "Accuracy -  0.8866832092638545\n",
      "Precision -  0.9368770764119602\n",
      "For  BgC\n",
      "Accuracy -  0.923904052936311\n",
      "Precision -  0.8407079646017699\n",
      "For  ETC\n",
      "Accuracy -  0.9437551695616212\n",
      "Precision -  0.8896713615023474\n",
      "For  GBDT\n",
      "Accuracy -  0.9181141439205955\n",
      "Precision -  0.8753117206982544\n"
     ]
    }
   ],
   "source": [
    "accuracy_scores = []\n",
    "precision_scores = []\n",
    "\n",
    "for name,clf in clfs.items():\n",
    "    \n",
    "    current_accuracy,current_precision = train_classifier(clf, X_train,y_train,X_test,y_test)\n",
    "    \n",
    "    print(\"For \",name)\n",
    "    print(\"Accuracy - \",current_accuracy)\n",
    "    print(\"Precision - \",current_precision)\n",
    "    \n",
    "    accuracy_scores.append(current_accuracy)\n",
    "    precision_scores.append(current_precision)"
   ]
  },
  {
   "cell_type": "code",
   "execution_count": 329,
   "id": "d740bd8e-4351-494b-9aab-c127b025d856",
   "metadata": {},
   "outputs": [],
   "source": [
    "performance_df = pd.DataFrame({'Algorithm':clfs.keys(),'Accuracy':accuracy_scores,'Precision':precision_scores}).sort_values('Precision',ascending=False)"
   ]
  },
  {
   "cell_type": "code",
   "execution_count": 330,
   "id": "413a7353-29d6-43fb-9084-d8e57e083dbb",
   "metadata": {},
   "outputs": [
    {
     "data": {
      "text/html": [
       "<div>\n",
       "<style scoped>\n",
       "    .dataframe tbody tr th:only-of-type {\n",
       "        vertical-align: middle;\n",
       "    }\n",
       "\n",
       "    .dataframe tbody tr th {\n",
       "        vertical-align: top;\n",
       "    }\n",
       "\n",
       "    .dataframe thead th {\n",
       "        text-align: right;\n",
       "    }\n",
       "</style>\n",
       "<table border=\"1\" class=\"dataframe\">\n",
       "  <thead>\n",
       "    <tr style=\"text-align: right;\">\n",
       "      <th></th>\n",
       "      <th>Algorithm</th>\n",
       "      <th>Accuracy</th>\n",
       "      <th>Precision</th>\n",
       "    </tr>\n",
       "  </thead>\n",
       "  <tbody>\n",
       "    <tr>\n",
       "      <th>6</th>\n",
       "      <td>AdaBoost</td>\n",
       "      <td>0.886683</td>\n",
       "      <td>0.936877</td>\n",
       "    </tr>\n",
       "    <tr>\n",
       "      <th>2</th>\n",
       "      <td>NB</td>\n",
       "      <td>0.943755</td>\n",
       "      <td>0.895238</td>\n",
       "    </tr>\n",
       "    <tr>\n",
       "      <th>8</th>\n",
       "      <td>ETC</td>\n",
       "      <td>0.943755</td>\n",
       "      <td>0.889671</td>\n",
       "    </tr>\n",
       "    <tr>\n",
       "      <th>4</th>\n",
       "      <td>LR</td>\n",
       "      <td>0.945409</td>\n",
       "      <td>0.888372</td>\n",
       "    </tr>\n",
       "    <tr>\n",
       "      <th>5</th>\n",
       "      <td>RF</td>\n",
       "      <td>0.947064</td>\n",
       "      <td>0.887097</td>\n",
       "    </tr>\n",
       "    <tr>\n",
       "      <th>9</th>\n",
       "      <td>GBDT</td>\n",
       "      <td>0.918114</td>\n",
       "      <td>0.875312</td>\n",
       "    </tr>\n",
       "    <tr>\n",
       "      <th>3</th>\n",
       "      <td>DT</td>\n",
       "      <td>0.886683</td>\n",
       "      <td>0.848806</td>\n",
       "    </tr>\n",
       "    <tr>\n",
       "      <th>7</th>\n",
       "      <td>BgC</td>\n",
       "      <td>0.923904</td>\n",
       "      <td>0.840708</td>\n",
       "    </tr>\n",
       "    <tr>\n",
       "      <th>1</th>\n",
       "      <td>KN</td>\n",
       "      <td>0.800662</td>\n",
       "      <td>0.636364</td>\n",
       "    </tr>\n",
       "    <tr>\n",
       "      <th>0</th>\n",
       "      <td>SVC</td>\n",
       "      <td>0.652605</td>\n",
       "      <td>0.470760</td>\n",
       "    </tr>\n",
       "  </tbody>\n",
       "</table>\n",
       "</div>"
      ],
      "text/plain": [
       "  Algorithm  Accuracy  Precision\n",
       "6  AdaBoost  0.886683   0.936877\n",
       "2        NB  0.943755   0.895238\n",
       "8       ETC  0.943755   0.889671\n",
       "4        LR  0.945409   0.888372\n",
       "5        RF  0.947064   0.887097\n",
       "9      GBDT  0.918114   0.875312\n",
       "3        DT  0.886683   0.848806\n",
       "7       BgC  0.923904   0.840708\n",
       "1        KN  0.800662   0.636364\n",
       "0       SVC  0.652605   0.470760"
      ]
     },
     "execution_count": 330,
     "metadata": {},
     "output_type": "execute_result"
    }
   ],
   "source": [
    "performance_df"
   ]
  },
  {
   "cell_type": "code",
   "execution_count": 331,
   "id": "fa8c2490-d7de-4351-bbeb-768d34d67c70",
   "metadata": {},
   "outputs": [],
   "source": [
    "performance_df1 = pd.melt(performance_df, id_vars = \"Algorithm\")"
   ]
  },
  {
   "cell_type": "code",
   "execution_count": 332,
   "id": "1380b9c4-993a-4e5a-b246-299695af3493",
   "metadata": {},
   "outputs": [
    {
     "data": {
      "text/html": [
       "<div>\n",
       "<style scoped>\n",
       "    .dataframe tbody tr th:only-of-type {\n",
       "        vertical-align: middle;\n",
       "    }\n",
       "\n",
       "    .dataframe tbody tr th {\n",
       "        vertical-align: top;\n",
       "    }\n",
       "\n",
       "    .dataframe thead th {\n",
       "        text-align: right;\n",
       "    }\n",
       "</style>\n",
       "<table border=\"1\" class=\"dataframe\">\n",
       "  <thead>\n",
       "    <tr style=\"text-align: right;\">\n",
       "      <th></th>\n",
       "      <th>Algorithm</th>\n",
       "      <th>variable</th>\n",
       "      <th>value</th>\n",
       "    </tr>\n",
       "  </thead>\n",
       "  <tbody>\n",
       "    <tr>\n",
       "      <th>0</th>\n",
       "      <td>AdaBoost</td>\n",
       "      <td>Accuracy</td>\n",
       "      <td>0.886683</td>\n",
       "    </tr>\n",
       "    <tr>\n",
       "      <th>1</th>\n",
       "      <td>NB</td>\n",
       "      <td>Accuracy</td>\n",
       "      <td>0.943755</td>\n",
       "    </tr>\n",
       "    <tr>\n",
       "      <th>2</th>\n",
       "      <td>ETC</td>\n",
       "      <td>Accuracy</td>\n",
       "      <td>0.943755</td>\n",
       "    </tr>\n",
       "    <tr>\n",
       "      <th>3</th>\n",
       "      <td>LR</td>\n",
       "      <td>Accuracy</td>\n",
       "      <td>0.945409</td>\n",
       "    </tr>\n",
       "    <tr>\n",
       "      <th>4</th>\n",
       "      <td>RF</td>\n",
       "      <td>Accuracy</td>\n",
       "      <td>0.947064</td>\n",
       "    </tr>\n",
       "    <tr>\n",
       "      <th>5</th>\n",
       "      <td>GBDT</td>\n",
       "      <td>Accuracy</td>\n",
       "      <td>0.918114</td>\n",
       "    </tr>\n",
       "    <tr>\n",
       "      <th>6</th>\n",
       "      <td>DT</td>\n",
       "      <td>Accuracy</td>\n",
       "      <td>0.886683</td>\n",
       "    </tr>\n",
       "    <tr>\n",
       "      <th>7</th>\n",
       "      <td>BgC</td>\n",
       "      <td>Accuracy</td>\n",
       "      <td>0.923904</td>\n",
       "    </tr>\n",
       "    <tr>\n",
       "      <th>8</th>\n",
       "      <td>KN</td>\n",
       "      <td>Accuracy</td>\n",
       "      <td>0.800662</td>\n",
       "    </tr>\n",
       "    <tr>\n",
       "      <th>9</th>\n",
       "      <td>SVC</td>\n",
       "      <td>Accuracy</td>\n",
       "      <td>0.652605</td>\n",
       "    </tr>\n",
       "    <tr>\n",
       "      <th>10</th>\n",
       "      <td>AdaBoost</td>\n",
       "      <td>Precision</td>\n",
       "      <td>0.936877</td>\n",
       "    </tr>\n",
       "    <tr>\n",
       "      <th>11</th>\n",
       "      <td>NB</td>\n",
       "      <td>Precision</td>\n",
       "      <td>0.895238</td>\n",
       "    </tr>\n",
       "    <tr>\n",
       "      <th>12</th>\n",
       "      <td>ETC</td>\n",
       "      <td>Precision</td>\n",
       "      <td>0.889671</td>\n",
       "    </tr>\n",
       "    <tr>\n",
       "      <th>13</th>\n",
       "      <td>LR</td>\n",
       "      <td>Precision</td>\n",
       "      <td>0.888372</td>\n",
       "    </tr>\n",
       "    <tr>\n",
       "      <th>14</th>\n",
       "      <td>RF</td>\n",
       "      <td>Precision</td>\n",
       "      <td>0.887097</td>\n",
       "    </tr>\n",
       "    <tr>\n",
       "      <th>15</th>\n",
       "      <td>GBDT</td>\n",
       "      <td>Precision</td>\n",
       "      <td>0.875312</td>\n",
       "    </tr>\n",
       "    <tr>\n",
       "      <th>16</th>\n",
       "      <td>DT</td>\n",
       "      <td>Precision</td>\n",
       "      <td>0.848806</td>\n",
       "    </tr>\n",
       "    <tr>\n",
       "      <th>17</th>\n",
       "      <td>BgC</td>\n",
       "      <td>Precision</td>\n",
       "      <td>0.840708</td>\n",
       "    </tr>\n",
       "    <tr>\n",
       "      <th>18</th>\n",
       "      <td>KN</td>\n",
       "      <td>Precision</td>\n",
       "      <td>0.636364</td>\n",
       "    </tr>\n",
       "    <tr>\n",
       "      <th>19</th>\n",
       "      <td>SVC</td>\n",
       "      <td>Precision</td>\n",
       "      <td>0.470760</td>\n",
       "    </tr>\n",
       "  </tbody>\n",
       "</table>\n",
       "</div>"
      ],
      "text/plain": [
       "   Algorithm   variable     value\n",
       "0   AdaBoost   Accuracy  0.886683\n",
       "1         NB   Accuracy  0.943755\n",
       "2        ETC   Accuracy  0.943755\n",
       "3         LR   Accuracy  0.945409\n",
       "4         RF   Accuracy  0.947064\n",
       "5       GBDT   Accuracy  0.918114\n",
       "6         DT   Accuracy  0.886683\n",
       "7        BgC   Accuracy  0.923904\n",
       "8         KN   Accuracy  0.800662\n",
       "9        SVC   Accuracy  0.652605\n",
       "10  AdaBoost  Precision  0.936877\n",
       "11        NB  Precision  0.895238\n",
       "12       ETC  Precision  0.889671\n",
       "13        LR  Precision  0.888372\n",
       "14        RF  Precision  0.887097\n",
       "15      GBDT  Precision  0.875312\n",
       "16        DT  Precision  0.848806\n",
       "17       BgC  Precision  0.840708\n",
       "18        KN  Precision  0.636364\n",
       "19       SVC  Precision  0.470760"
      ]
     },
     "execution_count": 332,
     "metadata": {},
     "output_type": "execute_result"
    }
   ],
   "source": [
    "performance_df1"
   ]
  },
  {
   "cell_type": "code",
   "execution_count": 333,
   "id": "6fa8b0a1-515c-4316-aa8a-b604a25c050f",
   "metadata": {},
   "outputs": [
    {
     "data": {
      "image/png": "[encoded data removed]",
      "text/plain": [
       "<Figure size 613.5x500 with 1 Axes>"
      ]
     },
     "metadata": {},
     "output_type": "display_data"
    }
   ],
   "source": [
    "sns.catplot(x = 'Algorithm', y='value', \n",
    "               hue = 'variable',data=performance_df1, kind='bar',height=5)\n",
    "plt.ylim(0.5,1.0)\n",
    "plt.xticks(rotation='vertical')\n",
    "plt.show()"
   ]
  },
  {
   "cell_type": "code",
   "execution_count": 334,
   "id": "ae6f4871-1ad5-4227-a876-ef6141443c5b",
   "metadata": {},
   "outputs": [],
   "source": [
    "import pickle\n",
    "pickle.dump(cv,open('vectorizer.pkl','wb'))\n",
    "pickle.dump(mnb,open('model.pkl','wb'))"
   ]
  }
 ],
 "metadata": {
  "kernelspec": {
   "display_name": "Python 3 (ipykernel)",
   "language": "python",
   "name": "python3"
  },
  "language_info": {
   "codemirror_mode": {
    "name": "ipython",
    "version": 3
   },
   "file_extension": ".py",
   "mimetype": "text/x-python",
   "name": "python",
   "nbconvert_exporter": "python",
   "pygments_lexer": "ipython3",
   "version": "3.12.8"
  }
 },
 "nbformat": 4,
 "nbformat_minor": 5
}
